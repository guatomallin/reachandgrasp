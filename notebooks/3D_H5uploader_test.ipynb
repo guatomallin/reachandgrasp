{
 "cells": [
  {
   "cell_type": "code",
   "execution_count": 17,
   "metadata": {
    "collapsed": true
   },
   "outputs": [],
   "source": [
    "import pandas as pd\n",
    "from pathlib import Path\n",
    "import os\n",
    "\n",
    "import numpy\n",
    "import matplotlib.pyplot as plt"
   ]
  },
  {
   "cell_type": "code",
   "execution_count": 6,
   "outputs": [],
   "source": [
    "#%dataname = str(Path(video).stem) + DLCscorer + '.h5'\n",
    "\n",
    "#loading output of DLC\n",
    "#%Dataframe = pd.read_hdf(os.path.join(dataname))"
   ],
   "metadata": {
    "collapsed": false,
    "pycharm": {
     "name": "#%%\n"
    }
   }
  },
  {
   "cell_type": "code",
   "execution_count": 7,
   "outputs": [
    {
     "name": "stdout",
     "output_type": "stream",
     "text": [
      "['undistorted_singleedit_14_behavior_shape4_21064_blind_light_122221.mp4_CP3D.h5']\n"
     ]
    }
   ],
   "source": [
    "pathOS = \"D:/project_deeplabcut/3DVideo/\"\n",
    "files = [file for file in os.listdir(pathOS) if file.endswith(\"CP3D.h5\")]\n",
    "print(files)"
   ],
   "metadata": {
    "collapsed": false,
    "pycharm": {
     "name": "#%%\n"
    }
   }
  },
  {
   "cell_type": "code",
   "execution_count": 24,
   "outputs": [
    {
     "name": "stdout",
     "output_type": "stream",
     "text": [
      "scorer    DLC_resnet50_r&d_cam2_2DSep14shuffle1_400000                        \\\n",
      "bodyparts                                       WristR                         \n",
      "coords                                               x          y          z   \n",
      "0                                             6.357756   9.466373  11.196162   \n",
      "1                                             6.359555   9.476743  11.199600   \n",
      "2                                             6.363851   9.483826  11.206335   \n",
      "3                                             6.363189   9.485463  11.208734   \n",
      "4                                             6.360265   9.482985  11.215203   \n",
      "..                                                 ...        ...        ...   \n",
      "225                                           6.344682   9.411689  11.140910   \n",
      "226                                           6.344633   9.410949  11.140773   \n",
      "227                                           6.344100   9.411522  11.141937   \n",
      "228                                           6.343233   9.410464  11.142652   \n",
      "229                                           5.463679  10.752075  13.262399   \n",
      "\n",
      "scorer                                                                   \\\n",
      "bodyparts    WristL                        ElbowR                         \n",
      "coords            x         y         z         x          y          z   \n",
      "0          7.689603  8.053353  9.928189  5.916870   9.373710  13.115097   \n",
      "1          7.699855  8.056012  9.934199  5.926084   9.386048  13.126387   \n",
      "2          7.719729  8.035963  9.906404  5.944337   9.404191  13.160734   \n",
      "3          7.767304  8.001021  9.913291  5.958935   9.406595  13.175381   \n",
      "4          8.087883  5.667974  8.118281  5.963562   9.411802  13.185608   \n",
      "..              ...       ...       ...       ...        ...        ...   \n",
      "225        7.508802  7.258006  9.474879  5.620840  10.088652  14.516105   \n",
      "226        7.506968  7.260154  9.473445  5.619616  10.090117  14.520956   \n",
      "227        7.506014  7.254504  9.469552  5.619669  10.091321  14.520759   \n",
      "228        7.505878  7.254225  9.469401  5.618634  10.089492  14.525415   \n",
      "229        7.376076  6.593498  9.358842  5.563555  10.196732  14.717835   \n",
      "\n",
      "scorer               ...                                                     \\\n",
      "bodyparts    ElbowL  ...    TailTip  Platform                          Slit   \n",
      "coords            x  ...          z         x         y         z         x   \n",
      "0          8.292365  ...  27.314021  7.022670  4.913141  6.928835  7.326466   \n",
      "1          8.294976  ...  27.324190  7.026856  4.919183  6.923324  7.327058   \n",
      "2          8.310057  ...  26.337096  7.029885  4.920387  6.914507  7.329074   \n",
      "3          8.320182  ...  26.388501  7.030614  4.923821  6.912361  7.329116   \n",
      "4          8.323530  ...  26.391832  7.030591  4.920932  6.905912  7.348410   \n",
      "..              ...  ...        ...       ...       ...       ...       ...   \n",
      "225        8.551957  ...  28.430818  6.725874  5.051863  7.304332  7.342500   \n",
      "226        8.554778  ...  28.321623  6.724509  5.050964  7.307998  7.343273   \n",
      "227        8.554747  ...  28.206575  6.723707  5.018495  7.310248  7.343151   \n",
      "228        8.554745  ...  28.189696  6.614033  5.146679  7.603530  7.343083   \n",
      "229        8.373676  ...  25.499318  6.604358  5.148397  7.613128  7.313599   \n",
      "\n",
      "scorer                                                       \n",
      "bodyparts                        Reward                      \n",
      "coords            y         z         x         y         z  \n",
      "0         -0.587182  6.678204  6.566053  4.582354  6.874633  \n",
      "1         -0.585977  6.676764  6.579949  4.585858  6.874016  \n",
      "2         -0.583744  6.672895  6.581483  4.590140  6.870307  \n",
      "3         -0.583263  6.672832  6.571806  4.582969  6.860838  \n",
      "4         -0.579115  6.664721  6.566427  4.576883  6.852154  \n",
      "..              ...       ...       ...       ...       ...  \n",
      "225       -0.580499  6.653520  5.865849  4.652615  6.941134  \n",
      "226       -0.584491  6.655029  5.865749  4.651473  6.941084  \n",
      "227       -0.583500  6.655439  5.867070  4.650308  6.938758  \n",
      "228       -0.584287  6.655540  5.860815  4.643663  6.935407  \n",
      "229       -0.844542  6.707794  5.856668  4.604847  6.931701  \n",
      "\n",
      "[230 rows x 48 columns]\n"
     ]
    }
   ],
   "source": [
    "#Now we need to find a way to extract and cocantenate files. First, we should see how they are organized.\n",
    "dataframe = pd.read_hdf(pathOS + files[0])\n",
    "print(dataframe)\n"
   ],
   "metadata": {
    "collapsed": false,
    "pycharm": {
     "name": "#%%\n"
    }
   }
  }
 ],
 "metadata": {
  "kernelspec": {
   "display_name": "Python 3",
   "language": "python",
   "name": "python3"
  },
  "language_info": {
   "codemirror_mode": {
    "name": "ipython",
    "version": 2
   },
   "file_extension": ".py",
   "mimetype": "text/x-python",
   "name": "python",
   "nbconvert_exporter": "python",
   "pygments_lexer": "ipython2",
   "version": "2.7.6"
  }
 },
 "nbformat": 4,
 "nbformat_minor": 0
}