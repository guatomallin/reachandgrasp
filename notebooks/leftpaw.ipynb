{
 "cells": [
  {
   "cell_type": "code",
   "execution_count": 1,
   "metadata": {
    "collapsed": true,
    "pycharm": {
     "name": "#%% Notebook for analysis of left forelimb from camera 3 point of view. Single Curve for representative comparisons\n"
    }
   },
   "outputs": [
    {
     "ename": "FileNotFoundError",
     "evalue": "[Errno 2] No such file or directory: '/Users/carlospineda/Desktop/TEMP Reaching Results for Code Dev/camera2/undistorted_singleedit_1_behavior_shape3-camera-2-21055_blind_121621DeepCut_resnet50_r_d_cam2_2DSep14shuffle1_200000filtered.csv'",
     "output_type": "error",
     "traceback": [
      "\u001B[0;31m---------------------------------------------------------------------------\u001B[0m",
      "\u001B[0;31mFileNotFoundError\u001B[0m                         Traceback (most recent call last)",
      "\u001B[0;32m<ipython-input-1-ab8820881468>\u001B[0m in \u001B[0;36m<module>\u001B[0;34m\u001B[0m\n\u001B[1;32m     24\u001B[0m \u001B[0;31m#data_undistorted_singlereach = pd.read_csv(r'/Users/carlospineda/PycharmProjects/scientificProject/data/cleaned_data/results_undistorted_edit500_singlesuccess_behavior_shape1_2_cam3_11078_091421DeepCut_resnet50_r_d_cam3_2DJul19shuffle1_200000_time30.csv')\u001B[0m\u001B[0;34m\u001B[0m\u001B[0;34m\u001B[0m\u001B[0;34m\u001B[0m\u001B[0m\n\u001B[1;32m     25\u001B[0m \u001B[0;31m#data_undistorted_singlereach = pd.read_csv(r'/Users/carlospineda/PycharmProjects/scientificProject/data/cleaned_data/results_undistorted_edit500_singlereach_behavior_shape2_cam3_11079_071421DeepCut_resnet50_rd_cam3_2DJul19shuffle1_200000_time30.csv')\u001B[0m\u001B[0;34m\u001B[0m\u001B[0;34m\u001B[0m\u001B[0;34m\u001B[0m\u001B[0m\n\u001B[0;32m---> 26\u001B[0;31m \u001B[0mdata_undistorted_singlereach\u001B[0m \u001B[0;34m=\u001B[0m \u001B[0mpd\u001B[0m\u001B[0;34m.\u001B[0m\u001B[0mread_csv\u001B[0m\u001B[0;34m(\u001B[0m\u001B[0;34mr'/Users/carlospineda/Desktop/TEMP Reaching Results for Code Dev/camera2/undistorted_singleedit_1_behavior_shape3-camera-2-21055_blind_121621DeepCut_resnet50_r_d_cam2_2DSep14shuffle1_200000filtered.csv'\u001B[0m\u001B[0;34m)\u001B[0m\u001B[0;34m\u001B[0m\u001B[0;34m\u001B[0m\u001B[0m\n\u001B[0m\u001B[1;32m     27\u001B[0m \u001B[0;34m\u001B[0m\u001B[0m\n\u001B[1;32m     28\u001B[0m \u001B[0;31m#print(data_undistorted_singlereach)\u001B[0m\u001B[0;34m\u001B[0m\u001B[0;34m\u001B[0m\u001B[0;34m\u001B[0m\u001B[0m\n",
      "\u001B[0;32m~/opt/anaconda3/envs/Reaching_Grasping/lib/python3.9/site-packages/pandas/io/parsers.py\u001B[0m in \u001B[0;36mread_csv\u001B[0;34m(filepath_or_buffer, sep, delimiter, header, names, index_col, usecols, squeeze, prefix, mangle_dupe_cols, dtype, engine, converters, true_values, false_values, skipinitialspace, skiprows, skipfooter, nrows, na_values, keep_default_na, na_filter, verbose, skip_blank_lines, parse_dates, infer_datetime_format, keep_date_col, date_parser, dayfirst, cache_dates, iterator, chunksize, compression, thousands, decimal, lineterminator, quotechar, quoting, doublequote, escapechar, comment, encoding, dialect, error_bad_lines, warn_bad_lines, delim_whitespace, low_memory, memory_map, float_precision, storage_options)\u001B[0m\n\u001B[1;32m    608\u001B[0m     \u001B[0mkwds\u001B[0m\u001B[0;34m.\u001B[0m\u001B[0mupdate\u001B[0m\u001B[0;34m(\u001B[0m\u001B[0mkwds_defaults\u001B[0m\u001B[0;34m)\u001B[0m\u001B[0;34m\u001B[0m\u001B[0;34m\u001B[0m\u001B[0m\n\u001B[1;32m    609\u001B[0m \u001B[0;34m\u001B[0m\u001B[0m\n\u001B[0;32m--> 610\u001B[0;31m     \u001B[0;32mreturn\u001B[0m \u001B[0m_read\u001B[0m\u001B[0;34m(\u001B[0m\u001B[0mfilepath_or_buffer\u001B[0m\u001B[0;34m,\u001B[0m \u001B[0mkwds\u001B[0m\u001B[0;34m)\u001B[0m\u001B[0;34m\u001B[0m\u001B[0;34m\u001B[0m\u001B[0m\n\u001B[0m\u001B[1;32m    611\u001B[0m \u001B[0;34m\u001B[0m\u001B[0m\n\u001B[1;32m    612\u001B[0m \u001B[0;34m\u001B[0m\u001B[0m\n",
      "\u001B[0;32m~/opt/anaconda3/envs/Reaching_Grasping/lib/python3.9/site-packages/pandas/io/parsers.py\u001B[0m in \u001B[0;36m_read\u001B[0;34m(filepath_or_buffer, kwds)\u001B[0m\n\u001B[1;32m    460\u001B[0m \u001B[0;34m\u001B[0m\u001B[0m\n\u001B[1;32m    461\u001B[0m     \u001B[0;31m# Create the parser.\u001B[0m\u001B[0;34m\u001B[0m\u001B[0;34m\u001B[0m\u001B[0;34m\u001B[0m\u001B[0m\n\u001B[0;32m--> 462\u001B[0;31m     \u001B[0mparser\u001B[0m \u001B[0;34m=\u001B[0m \u001B[0mTextFileReader\u001B[0m\u001B[0;34m(\u001B[0m\u001B[0mfilepath_or_buffer\u001B[0m\u001B[0;34m,\u001B[0m \u001B[0;34m**\u001B[0m\u001B[0mkwds\u001B[0m\u001B[0;34m)\u001B[0m\u001B[0;34m\u001B[0m\u001B[0;34m\u001B[0m\u001B[0m\n\u001B[0m\u001B[1;32m    463\u001B[0m \u001B[0;34m\u001B[0m\u001B[0m\n\u001B[1;32m    464\u001B[0m     \u001B[0;32mif\u001B[0m \u001B[0mchunksize\u001B[0m \u001B[0;32mor\u001B[0m \u001B[0miterator\u001B[0m\u001B[0;34m:\u001B[0m\u001B[0;34m\u001B[0m\u001B[0;34m\u001B[0m\u001B[0m\n",
      "\u001B[0;32m~/opt/anaconda3/envs/Reaching_Grasping/lib/python3.9/site-packages/pandas/io/parsers.py\u001B[0m in \u001B[0;36m__init__\u001B[0;34m(self, f, engine, **kwds)\u001B[0m\n\u001B[1;32m    817\u001B[0m             \u001B[0mself\u001B[0m\u001B[0;34m.\u001B[0m\u001B[0moptions\u001B[0m\u001B[0;34m[\u001B[0m\u001B[0;34m\"has_index_names\"\u001B[0m\u001B[0;34m]\u001B[0m \u001B[0;34m=\u001B[0m \u001B[0mkwds\u001B[0m\u001B[0;34m[\u001B[0m\u001B[0;34m\"has_index_names\"\u001B[0m\u001B[0;34m]\u001B[0m\u001B[0;34m\u001B[0m\u001B[0;34m\u001B[0m\u001B[0m\n\u001B[1;32m    818\u001B[0m \u001B[0;34m\u001B[0m\u001B[0m\n\u001B[0;32m--> 819\u001B[0;31m         \u001B[0mself\u001B[0m\u001B[0;34m.\u001B[0m\u001B[0m_engine\u001B[0m \u001B[0;34m=\u001B[0m \u001B[0mself\u001B[0m\u001B[0;34m.\u001B[0m\u001B[0m_make_engine\u001B[0m\u001B[0;34m(\u001B[0m\u001B[0mself\u001B[0m\u001B[0;34m.\u001B[0m\u001B[0mengine\u001B[0m\u001B[0;34m)\u001B[0m\u001B[0;34m\u001B[0m\u001B[0;34m\u001B[0m\u001B[0m\n\u001B[0m\u001B[1;32m    820\u001B[0m \u001B[0;34m\u001B[0m\u001B[0m\n\u001B[1;32m    821\u001B[0m     \u001B[0;32mdef\u001B[0m \u001B[0mclose\u001B[0m\u001B[0;34m(\u001B[0m\u001B[0mself\u001B[0m\u001B[0;34m)\u001B[0m\u001B[0;34m:\u001B[0m\u001B[0;34m\u001B[0m\u001B[0;34m\u001B[0m\u001B[0m\n",
      "\u001B[0;32m~/opt/anaconda3/envs/Reaching_Grasping/lib/python3.9/site-packages/pandas/io/parsers.py\u001B[0m in \u001B[0;36m_make_engine\u001B[0;34m(self, engine)\u001B[0m\n\u001B[1;32m   1048\u001B[0m             )\n\u001B[1;32m   1049\u001B[0m         \u001B[0;31m# error: Too many arguments for \"ParserBase\"\u001B[0m\u001B[0;34m\u001B[0m\u001B[0;34m\u001B[0m\u001B[0;34m\u001B[0m\u001B[0m\n\u001B[0;32m-> 1050\u001B[0;31m         \u001B[0;32mreturn\u001B[0m \u001B[0mmapping\u001B[0m\u001B[0;34m[\u001B[0m\u001B[0mengine\u001B[0m\u001B[0;34m]\u001B[0m\u001B[0;34m(\u001B[0m\u001B[0mself\u001B[0m\u001B[0;34m.\u001B[0m\u001B[0mf\u001B[0m\u001B[0;34m,\u001B[0m \u001B[0;34m**\u001B[0m\u001B[0mself\u001B[0m\u001B[0;34m.\u001B[0m\u001B[0moptions\u001B[0m\u001B[0;34m)\u001B[0m  \u001B[0;31m# type: ignore[call-arg]\u001B[0m\u001B[0;34m\u001B[0m\u001B[0;34m\u001B[0m\u001B[0m\n\u001B[0m\u001B[1;32m   1051\u001B[0m \u001B[0;34m\u001B[0m\u001B[0m\n\u001B[1;32m   1052\u001B[0m     \u001B[0;32mdef\u001B[0m \u001B[0m_failover_to_python\u001B[0m\u001B[0;34m(\u001B[0m\u001B[0mself\u001B[0m\u001B[0;34m)\u001B[0m\u001B[0;34m:\u001B[0m\u001B[0;34m\u001B[0m\u001B[0;34m\u001B[0m\u001B[0m\n",
      "\u001B[0;32m~/opt/anaconda3/envs/Reaching_Grasping/lib/python3.9/site-packages/pandas/io/parsers.py\u001B[0m in \u001B[0;36m__init__\u001B[0;34m(self, src, **kwds)\u001B[0m\n\u001B[1;32m   1865\u001B[0m \u001B[0;34m\u001B[0m\u001B[0m\n\u001B[1;32m   1866\u001B[0m         \u001B[0;31m# open handles\u001B[0m\u001B[0;34m\u001B[0m\u001B[0;34m\u001B[0m\u001B[0;34m\u001B[0m\u001B[0m\n\u001B[0;32m-> 1867\u001B[0;31m         \u001B[0mself\u001B[0m\u001B[0;34m.\u001B[0m\u001B[0m_open_handles\u001B[0m\u001B[0;34m(\u001B[0m\u001B[0msrc\u001B[0m\u001B[0;34m,\u001B[0m \u001B[0mkwds\u001B[0m\u001B[0;34m)\u001B[0m\u001B[0;34m\u001B[0m\u001B[0;34m\u001B[0m\u001B[0m\n\u001B[0m\u001B[1;32m   1868\u001B[0m         \u001B[0;32massert\u001B[0m \u001B[0mself\u001B[0m\u001B[0;34m.\u001B[0m\u001B[0mhandles\u001B[0m \u001B[0;32mis\u001B[0m \u001B[0;32mnot\u001B[0m \u001B[0;32mNone\u001B[0m\u001B[0;34m\u001B[0m\u001B[0;34m\u001B[0m\u001B[0m\n\u001B[1;32m   1869\u001B[0m         \u001B[0;32mfor\u001B[0m \u001B[0mkey\u001B[0m \u001B[0;32min\u001B[0m \u001B[0;34m(\u001B[0m\u001B[0;34m\"storage_options\"\u001B[0m\u001B[0;34m,\u001B[0m \u001B[0;34m\"encoding\"\u001B[0m\u001B[0;34m,\u001B[0m \u001B[0;34m\"memory_map\"\u001B[0m\u001B[0;34m,\u001B[0m \u001B[0;34m\"compression\"\u001B[0m\u001B[0;34m)\u001B[0m\u001B[0;34m:\u001B[0m\u001B[0;34m\u001B[0m\u001B[0;34m\u001B[0m\u001B[0m\n",
      "\u001B[0;32m~/opt/anaconda3/envs/Reaching_Grasping/lib/python3.9/site-packages/pandas/io/parsers.py\u001B[0m in \u001B[0;36m_open_handles\u001B[0;34m(self, src, kwds)\u001B[0m\n\u001B[1;32m   1360\u001B[0m         \u001B[0mLet\u001B[0m \u001B[0mthe\u001B[0m \u001B[0mreaders\u001B[0m \u001B[0mopen\u001B[0m \u001B[0mIOHanldes\u001B[0m \u001B[0mafter\u001B[0m \u001B[0mthey\u001B[0m \u001B[0mare\u001B[0m \u001B[0mdone\u001B[0m \u001B[0;32mwith\u001B[0m \u001B[0mtheir\u001B[0m \u001B[0mpotential\u001B[0m \u001B[0mraises\u001B[0m\u001B[0;34m.\u001B[0m\u001B[0;34m\u001B[0m\u001B[0;34m\u001B[0m\u001B[0m\n\u001B[1;32m   1361\u001B[0m         \"\"\"\n\u001B[0;32m-> 1362\u001B[0;31m         self.handles = get_handle(\n\u001B[0m\u001B[1;32m   1363\u001B[0m             \u001B[0msrc\u001B[0m\u001B[0;34m,\u001B[0m\u001B[0;34m\u001B[0m\u001B[0;34m\u001B[0m\u001B[0m\n\u001B[1;32m   1364\u001B[0m             \u001B[0;34m\"r\"\u001B[0m\u001B[0;34m,\u001B[0m\u001B[0;34m\u001B[0m\u001B[0;34m\u001B[0m\u001B[0m\n",
      "\u001B[0;32m~/opt/anaconda3/envs/Reaching_Grasping/lib/python3.9/site-packages/pandas/io/common.py\u001B[0m in \u001B[0;36mget_handle\u001B[0;34m(path_or_buf, mode, encoding, compression, memory_map, is_text, errors, storage_options)\u001B[0m\n\u001B[1;32m    640\u001B[0m                 \u001B[0merrors\u001B[0m \u001B[0;34m=\u001B[0m \u001B[0;34m\"replace\"\u001B[0m\u001B[0;34m\u001B[0m\u001B[0;34m\u001B[0m\u001B[0m\n\u001B[1;32m    641\u001B[0m             \u001B[0;31m# Encoding\u001B[0m\u001B[0;34m\u001B[0m\u001B[0;34m\u001B[0m\u001B[0;34m\u001B[0m\u001B[0m\n\u001B[0;32m--> 642\u001B[0;31m             handle = open(\n\u001B[0m\u001B[1;32m    643\u001B[0m                 \u001B[0mhandle\u001B[0m\u001B[0;34m,\u001B[0m\u001B[0;34m\u001B[0m\u001B[0;34m\u001B[0m\u001B[0m\n\u001B[1;32m    644\u001B[0m                 \u001B[0mioargs\u001B[0m\u001B[0;34m.\u001B[0m\u001B[0mmode\u001B[0m\u001B[0;34m,\u001B[0m\u001B[0;34m\u001B[0m\u001B[0;34m\u001B[0m\u001B[0m\n",
      "\u001B[0;31mFileNotFoundError\u001B[0m: [Errno 2] No such file or directory: '/Users/carlospineda/Desktop/TEMP Reaching Results for Code Dev/camera2/undistorted_singleedit_1_behavior_shape3-camera-2-21055_blind_121621DeepCut_resnet50_r_d_cam2_2DSep14shuffle1_200000filtered.csv'"
     ]
    }
   ],
   "source": [
    "#%matplotlib qt\n",
    "import pandas as pd\n",
    "import numpy as np\n",
    "import matplotlib.pyplot as plt\n",
    "from preprocessing.classes import simpleKinematics, FilterandThresholds\n",
    "from mpl_toolkits.mplot3d import Axes3D\n",
    "import matplotlib.ticker as ticker\n",
    "import seaborn as sns\n",
    "#import h5py\n",
    "import os\n",
    "#import lmfit\n",
    "from scipy.ndimage import gaussian_filter1d\n",
    "from scipy.signal import find_peaks, peak_widths, chirp\n",
    "from math import floor\n",
    "from mpl_toolkits.mplot3d import Axes3D\n",
    "#from sklearn.cluster import KMeans\n",
    "#import deeplabcut\n",
    "from scipy.optimize import curve_fit\n",
    "import pickle\n",
    "\n",
    "#11084\n",
    "#data_undistorted_singlereach = pd.read_csv(r'/Users/carlospineda/PycharmProjects/scientificProject/data/cleaned_data/results_undistorted_edit500_singlesuccess_behavior_shape1_2_cam3_11078_091421DeepCut_resnet50_r_d_cam3_2DJul19shuffle1_200000_time30.csv')\n",
    "#data_undistorted_singlereach = pd.read_csv(r'/Users/carlospineda/PycharmProjects/scientificProject/data/cleaned_data/results_undistorted_edit500_singlesuccess_behavior_shape1_2_cam3_11080_091421DeepCut_resnet50_r_d_cam3_2DJul19shuffle1_200000_time30.csv')\n",
    "#data_undistorted_singlereach = pd.read_csv(r'/Users/carlospineda/PycharmProjects/scientificProject/data/cleaned_data/results_undistorted_edit500_singlesuccess_behavior_shape1_2_cam3_11078_091421DeepCut_resnet50_r_d_cam3_2DJul19shuffle1_200000_time30.csv')\n",
    "#data_undistorted_singlereach = pd.read_csv(r'/Users/carlospineda/PycharmProjects/scientificProject/data/cleaned_data/results_undistorted_edit500_singlereach_behavior_shape2_cam3_11079_071421DeepCut_resnet50_rd_cam3_2DJul19shuffle1_200000_time30.csv')\n",
    "data_undistorted_singlereach = pd.read_csv(r'/Users/carlospineda/Desktop/TEMP Reaching Results for Code Dev/camera2/undistorted_singleedit_1_behavior_shape3-camera-2-21055_blind_121621DeepCut_resnet50_r_d_cam2_2DSep14shuffle1_200000filtered.csv')\n",
    "\n",
    "#print(data_undistorted_singlereach)\n",
    "#11079_sighted\n",
    "data_undistored_singlereach_sighted = pd.read_csv(r'/Users/carlospineda/Desktop/TEMP Reaching Results for Code Dev/camera2/undistorted_singleedit_1_behavior_shape3-camera-2-21055_blind_121621DeepCut_resnet50_r_d_cam2_2DSep14shuffle1_200000filtered.csv')\n",
    "#data_undistored_singlereach_sighted = pd.read_csv(r'/Users/carlospineda/PycharmProjects/scientificProject/data/cleaned_data/results_undistorted_edit500_singlesuccess_behavior_shape1_2_cam3_11078_091421DeepCut_resnet50_r_d_cam3_2DJul19shuffle1_200000_time30.csv')"
   ]
  },
  {
   "cell_type": "code",
   "execution_count": null,
   "outputs": [],
   "source": [
    "print(data_undistored_singlereach_sighted)\n"
   ],
   "metadata": {
    "collapsed": false,
    "pycharm": {
     "name": "#%%\n"
    }
   }
  },
  {
   "cell_type": "code",
   "execution_count": null,
   "outputs": [],
   "source": [
    "Multi_indexer = FilterandThresholds('MultiIndex')\n",
    "data_undistorted_singlereach = Multi_indexer.MultiIndexMaker(data_undistorted_singlereach)\n",
    "#print(data_undistored_singleread)\n",
    "\n",
    "data_undistored_singlereach_sighted = Multi_indexer.MultiIndexMaker(data_undistored_singlereach_sighted)\n",
    "print(type(data_undistored_singlereach_sighted))\n"
   ],
   "metadata": {
    "collapsed": false,
    "pycharm": {
     "name": "#%% Multi_index all the files\n"
    }
   }
  },
  {
   "cell_type": "code",
   "execution_count": null,
   "outputs": [],
   "source": [
    "# org_columns = data_undistorted_singlereach.columns\n",
    "# print(org_columns)\n",
    "# new_columns = []\n",
    "#\n",
    "# for indx, l in enumerate(org_columns):\n",
    "#     #print(l)\n",
    "#     #print(indx)\n",
    "#     if l.endswith('.1') == True:\n",
    "#         nl = str(l)[:-2]\n",
    "#         #print(nl)\n",
    "#         new_columns.append(nl)\n",
    "#     elif l.endswith('.2') == True:\n",
    "#         ml = str(l[:-2])\n",
    "#         new_columns.append(ml)\n",
    "#     else :\n",
    "#         new_columns.append(l)\n",
    "#\n",
    "# print(new_columns)"
   ],
   "metadata": {
    "collapsed": false,
    "pycharm": {
     "name": "#%% Here we want to separate the column names, delete the numbers adn reassing the edited names to the top level of the multiindex.\n"
    }
   }
  },
  {
   "cell_type": "code",
   "execution_count": null,
   "outputs": [],
   "source": [
    "# print(len(data_undistorted_singlereach.iloc[0].values))\n",
    "# print(len(new_columns))"
   ],
   "metadata": {
    "collapsed": false,
    "pycharm": {
     "name": "#%%\n"
    }
   }
  },
  {
   "cell_type": "code",
   "execution_count": null,
   "outputs": [],
   "source": [
    "# data_undistorted_singlereach.columns = pd.MultiIndex.from_arrays([new_columns,data_undistorted_singlereach.iloc[0].values])\n",
    "# data_undistorted_singlereach = data_undistorted_singlereach.iloc[1:]\n",
    "# print(data_undistorted_singlereach)"
   ],
   "metadata": {
    "collapsed": false,
    "pycharm": {
     "name": "#%% Multi-indexing code\n"
    }
   }
  },
  {
   "cell_type": "code",
   "execution_count": null,
   "outputs": [],
   "source": [],
   "metadata": {
    "collapsed": false,
    "pycharm": {
     "name": "#%% '\n"
    }
   }
  },
  {
   "cell_type": "code",
   "execution_count": null,
   "outputs": [],
   "source": [
    "# merged_results_success = merged_data\n",
    "# merged_results_success.columns = pd.MultiIndex.from_arrays([new_columns,merged_data.iloc[0].values])\n",
    "# merged_results_success = merged_results_success.iloc[1:]\n",
    "#print(merged_results_success)\n",
    "\n",
    "#merged_results_success['groups'] = merged_results_success.index\n",
    "\n",
    "#merged_results_success['groups'] = [x[0] for x in merged_results_success['groups']]\n"
   ],
   "metadata": {
    "collapsed": false,
    "pycharm": {
     "name": "#%%\n"
    }
   }
  },
  {
   "cell_type": "code",
   "execution_count": null,
   "outputs": [],
   "source": [
    "# from preprocessing.classes import FilterandThresholds\n",
    "#\n",
    "# leftpaw_fileter = FilterandThresholds('LeftPaw')\n",
    "# data_undistorted_singlereach_leftpaw = leftpaw_fileter.bodypart_selector(data_undistorted_singlereach, 'WristL')\n",
    "# data_undistorted_singlereach_slit = leftpaw_fileter.bodypart_selector(data_undistorted_singlereach, 'Slit')\n",
    "# data_undistorted_singlereach_elbow = leftpaw_fileter.bodypart_selector(data_undistorted_singlereach, 'ElbowL')\n",
    "# data_undistorted_singlereach_platform = leftpaw_fileter.bodypart_selector(data_undistorted_singlereach, 'Platform')\n",
    "# data_undistorted_singlereach_snout = leftpaw_fileter.bodypart_selector(data_undistorted_singlereach, 'Snout')"
   ],
   "metadata": {
    "collapsed": false,
    "pycharm": {
     "name": "#%% separate the right paw from the rest of the dataframe\n"
    }
   }
  },
  {
   "cell_type": "code",
   "execution_count": null,
   "outputs": [],
   "source": [
    "from preprocessing.classes import FilterandThresholds\n",
    "#Blind bodyparts\n",
    "leftpaw_fileter = FilterandThresholds('LeftPaw')\n",
    "data_undistorted_singlereach_leftpaw = leftpaw_fileter.bodypart_selector(data_undistorted_singlereach, 'WristL')\n",
    "data_undistorted_singlereach_slit = leftpaw_fileter.bodypart_selector(data_undistorted_singlereach, 'Slit')\n",
    "data_undistorted_singlereach_elbow = leftpaw_fileter.bodypart_selector(data_undistorted_singlereach, 'ElbowL')\n",
    "data_undistorted_singlereach_platform = leftpaw_fileter.bodypart_selector(data_undistorted_singlereach, 'Platform')\n",
    "data_undistorted_singlereach_snout = leftpaw_fileter.bodypart_selector(data_undistorted_singlereach, 'Snout')\n",
    "print(data_undistorted_singlereach_leftpaw)\n",
    "#Sighted bodyparts\n",
    "data_undistored_singlereach_sighted_leftpaw = leftpaw_fileter.bodypart_selector(data_undistored_singlereach_sighted, 'WristL')\n",
    "data_undistorted_singlereach_sighted_snout = leftpaw_fileter.bodypart_selector(data_undistored_singlereach_sighted, 'Snout')\n",
    "\n",
    "#Filtering\n",
    "data_undistorted_singlereach_leftpaw = data_undistorted_singlereach_leftpaw[data_undistorted_singlereach_leftpaw ['WristL', 'likelihood']>'0.18']\n",
    "data_undistored_singlereach_sighted_leftpaw = data_undistored_singlereach_sighted_leftpaw[data_undistored_singlereach_sighted_leftpaw['WristL', 'likelihood']>'0.18']"
   ],
   "metadata": {
    "collapsed": false,
    "pycharm": {
     "name": "#%%\n"
    }
   }
  },
  {
   "cell_type": "code",
   "execution_count": null,
   "outputs": [],
   "source": [
    "# new_header = data_undistorted_singlereach_leftpaw.iloc[0] # grab the first row for the header\n",
    "# print(new_header)\n",
    "# data_undistorted_singlereach_leftpaw = data_undistorted_singlereach_leftpaw[1:]  # take the data less the header row\n",
    "# data_undistorted_singlereach_leftpaw.columns = new_header\n",
    "# print(data_undistorted_singlereach_leftpaw)\n",
    "#\n",
    "# new_header = data_undistorted_singlereach_slit.iloc[0] # grab the first row for the header\n",
    "# data_undistorted_singlereach_slit = data_undistorted_singlereach_slit[1:]  # take the data less the header row\n",
    "# data_undistorted_singlereach_slit.columns = new_header\n",
    "#\n",
    "# new_header = data_undistorted_singlereach_elbow.iloc[0] # grab the first row for the header\n",
    "# data_undistorted_singlereach_elbow = data_undistorted_singlereach_elbow[1:]  # take the data less the header row\n",
    "# data_undistorted_singlereach_elbow.columns = new_header\n",
    "#\n",
    "# new_header = data_undistorted_singlereach_platform.iloc[0] # grab the first row for the header\n",
    "# data_undistorted_singlereach_platform = data_undistorted_singlereach_platform[1:]  # take the data less the header row\n",
    "# data_undistorted_singlereach_platform.columns = new_header\n",
    "#\n",
    "# new_header = data_undistorted_singlereach_snout.iloc[0] # grab the first row for the header\n",
    "# data_undistorted_singlereach_snout = data_undistorted_singlereach_snout[1:]  # take the data less the header row\n",
    "# data_undistorted_singlereach_snout.columns = new_header\n",
    "\n",
    "\n"
   ],
   "metadata": {
    "collapsed": false,
    "pycharm": {
     "name": "#%% Multi-index decomposition-depricated\n"
    }
   }
  },
  {
   "cell_type": "code",
   "execution_count": null,
   "outputs": [],
   "source": [
    "# x = data_undistorted_singlereach_leftpaw['x']\n",
    "# z = data_undistorted_singlereach_leftpaw['y']\n",
    "# y = data_undistorted_singlereach_leftpaw['s']\n",
    "# frames = range(len(data_undistorted_singlereach_leftpaw))\n",
    "# print(type(frames))\n",
    "# print(type(x))\n",
    "# print(type(y))\n",
    "#\n",
    "# fig = plt.figure(figsize=(20,20))\n",
    "#\n",
    "# ax1 = fig.add_subplot(111, projection='3d')\n",
    "# pnt3d = ax1.scatter(x,  z)\n",
    "# plt.gca().invert_zaxis()\n",
    "# #plt.gca().invert_yaxis()\n",
    "# #Figure out how to plot this rightside up.\n",
    "# cbar=plt.colorbar(pnt3d)\n",
    "# fig.suptitle('Forepaw Trajectory in 3D', fontsize=24)\n",
    "# ax1.view_init(0, 60)"
   ],
   "metadata": {
    "collapsed": false,
    "pycharm": {
     "name": "#%% plotting wrist trajectory-TEST depricated\n"
    }
   }
  },
  {
   "cell_type": "code",
   "execution_count": null,
   "outputs": [],
   "source": [
    "#data_undistorted_singlereach_leftpaw = data_undistorted_singlereach_leftpaw[data_undistorted_singlereach_leftpaw ['WristL', 'likelihood']>'0.2']\n",
    "#print(data_undistorted_singlereach_leftpaw)\n",
    "#print(data_undistorted_singlereach_leftpaw.xs('x', axis=1, level=1, drop_level=False))"
   ],
   "metadata": {
    "collapsed": false,
    "pycharm": {
     "name": "#%% likelihood cut off for the rest of this notebook\n"
    }
   }
  },
  {
   "cell_type": "code",
   "execution_count": null,
   "outputs": [],
   "source": [
    "#movement_leftpaw\n",
    "x = data_undistorted_singlereach_leftpaw.xs('x', axis=1, level=1, drop_level=False).values.astype(float)\n",
    "z = data_undistorted_singlereach_leftpaw.xs('y', axis=1, level=1, drop_level=False).values.astype(float)\n",
    "y = data_undistorted_singlereach_leftpaw.xs('s', axis=1, level=1, drop_level=False).values.astype(float)\n",
    "\n",
    "#movement_slit\n",
    "x_slit = data_undistorted_singlereach_slit.xs('x', axis=1, level=1, drop_level=False).values.astype(float)\n",
    "z_slit = data_undistorted_singlereach_slit.xs('y', axis=1, level=1, drop_level=False).values.astype(float)\n",
    "y_slit = data_undistorted_singlereach_slit.xs('s', axis=1, level=1, drop_level=False).values.astype(float)\n",
    "\n",
    "#movement_elbow\n",
    "x_elbow = data_undistorted_singlereach_elbow.xs('x', axis=1, level=1, drop_level=False).values.astype(float)\n",
    "z_elbow = data_undistorted_singlereach_elbow.xs('y', axis=1, level=1, drop_level=False).values.astype(float)\n",
    "y_elbow = data_undistorted_singlereach_elbow.xs('s', axis=1, level=1, drop_level=False).values.astype(float)\n",
    "\n",
    "x_platform = data_undistorted_singlereach_platform.xs('x', axis=1, level=1, drop_level=False).values.astype(float)\n",
    "z_platform = data_undistorted_singlereach_platform.xs('y', axis=1, level=1, drop_level=False).values.astype(float)\n",
    "y_platform = data_undistorted_singlereach_platform.xs('s', axis=1, level=1, drop_level=False).values.astype(float)\n",
    "\n",
    "x_snout = data_undistorted_singlereach_snout.xs('x', axis=1, level=1, drop_level=False).values.astype(float)\n",
    "z_snout = data_undistorted_singlereach_snout.xs('y', axis=1, level=1, drop_level=False).values.astype(float)\n",
    "y_snout = data_undistorted_singlereach_snout.xs('s', axis=1, level=1, drop_level=False).values.astype(float)\n"
   ],
   "metadata": {
    "collapsed": false,
    "pycharm": {
     "name": "#%% Dataframe decomposition by tracked object\n"
    }
   }
  },
  {
   "cell_type": "code",
   "execution_count": null,
   "outputs": [],
   "source": [
    "x_sight = data_undistored_singlereach_sighted_leftpaw.xs('x', axis=1, level=1, drop_level=False).values.astype(float)\n",
    "z_sight = data_undistored_singlereach_sighted_leftpaw.xs('y', axis=1, level=1, drop_level=False).values.astype(float)\n",
    "y_sight = data_undistored_singlereach_sighted_leftpaw.xs('s', axis=1, level=1, drop_level=False).values.astype(float)\n",
    "#does it get overwritten?\n",
    "\n",
    "x_snout_sight = data_undistorted_singlereach_sighted_snout.xs('x', axis=1, level=1, drop_level=False).values.astype(float)\n",
    "x_snout_sight = data_undistorted_singlereach_sighted_snout.xs('y', axis=1, level=1, drop_level=False).values.astype(float)\n",
    "y_snout_sight = data_undistorted_singlereach_sighted_snout.xs('s', axis=1, level=1, drop_level=False).values.astype(float)"
   ],
   "metadata": {
    "collapsed": false,
    "pycharm": {
     "name": "#%% this chunk prints a 3d render of the movement. idk why matplotlib qt command does not print it.\n"
    }
   }
  },
  {
   "cell_type": "code",
   "execution_count": null,
   "outputs": [],
   "source": [
    "print(len(x_snout_sight))"
   ],
   "metadata": {
    "collapsed": false,
    "pycharm": {
     "name": "#%%\n"
    }
   }
  },
  {
   "cell_type": "code",
   "execution_count": null,
   "outputs": [],
   "source": [
    "# fig = plt.figure(figsize=(20,20))\n",
    "#\n",
    "# ax1 = fig.add_subplot(111, projection='3d')\n",
    "# pnt3d=ax1.scatter(x,y,z)\n",
    "# #pnt3d_slit = ax1.scatter(x_slit, y_slit, z_slit)\n",
    "# #pnt3d_selbow=ax1.scatter(x_elbow,y_elbow, z_elbow)\n",
    "# pnt3d_elbow=ax1.scatter(x_snout,y_snout, z_snout)\n",
    "# #pnt3d_platform = ax1.scatter(x_platform, y_platform, z_platform)\n",
    "# #pnt3d_elbow = ax1.scatter(x_elbow, y_elbow, z_elbow)\n",
    "# #plt.gca().invert_zaxis()\n",
    "# plt.gca().invert_yaxis()\n",
    "# #Figure out how to plot this rightside up.\n",
    "#\n",
    "# #cbar = plt.colorbar(pnt3d_slit)\n",
    "# #cbar = plt.colorbar(pnt3d_elbow)\n",
    "# #cbar = plt.colorbar(pnt3d_platform)\n",
    "# fig.suptitle('Forepaw Trajectory in 3D', fontsize=24)\n",
    "# ax1.view_init(0, 60)\n",
    "#\n",
    "# #plt.savefig(\"3D_reaching_time_itr2.svg\", format='svg')"
   ],
   "metadata": {
    "collapsed": false,
    "pycharm": {
     "name": "#%%Filter out individual animals in order to interpolate- once you can interpolate then you can adap the figures.\n"
    }
   }
  },
  {
   "cell_type": "code",
   "execution_count": null,
   "outputs": [],
   "source": [
    "%matplotlib qt\n",
    "fig = plt.figure(figsize=(20,20))\n",
    "\n",
    "ax1 = plt.gca( projection='3d')\n",
    "ax1.scatter(x, y, z)\n",
    "#ax1.plot(x, y, z, color = 'b')\n",
    "#pnt3d_slit = ax1.scatter(x_slit, y_slit, z_slit)\n",
    "#pnt3d_selbow=ax1.scatter(x_elbow,y_elbow, z_elbow)\n",
    "ax1.scatter(x_snout,y_snout, z_snout)\n",
    "#pnt3d_platform = ax1.scatter(x_platform, y_platform, z_platform)\n",
    "#pnt3d_elbow = ax1.scatter(x_elbow, y_elbow, z_elbow)\n",
    "plt.gca().invert_zaxis()\n",
    "#plt.gca().invert_yaxis()\n",
    "#Figure out how to plot this rightside up.\n",
    "\n",
    "#cbar = plt.colorbar(pnt3d_slit)\n",
    "#cbar = plt.colorbar(pnt3d_elbow)\n",
    "#cbar = plt.colorbar(pnt3d_platform)\n",
    "ax1.plot([210, 210], [5,15], [243,243], color='black')\n",
    "ax1.plot([220, 220], [11, 11], [210,243], color = 'black')\n",
    "ax1.plot([220, 220], [8, 8], [210,243], color = 'black')\n",
    "ax1.plot([210, 220], [5, 5], [243,243], color = 'black')\n",
    "ax1.plot([210, 220], [15,15], [243,243], color = 'black')\n",
    "ax1.plot([220, 220], [5, 15], [243,243], color = 'black')\n",
    "ax1.plot([220, 220], [8, 11], [210,210], color = 'black')\n",
    "# ax1.plot([5, 5], [2.75, 2.75], [-4,-3], color = 'black')\n",
    "# ax1.plot([5, 5], [1.50, 1.50], [-4,-3], color = 'black')\n",
    "# ax1.plot([5, 5], [1, 1], [-4,-3], color = 'black')\n",
    "# ax1.plot([5, 5], [3, 3], [-4,-3], color = 'black')\n",
    "# ax1.plot([5, 5], [1, 1.75], [-3,-3], color='black')\n",
    "# ax1.plot([5, 5], [1, 3], [-4,-4], color = 'black')\n",
    "\n",
    "ax1.set_xlabel('chamber wall left', fontsize = 35)\n",
    "ax1.set_ylabel('Time(s)', fontsize = 24)\n",
    "ax1.set_zlabel('chamber wall right', fontsize = 35)\n",
    "ax1.set_xticklabels([])\n",
    "ax1.set_zticklabels([])\n",
    "#fig.suptitle('Forepaw Trajectory in 3D', fontsize=24)\n",
    "#ax1.view_init(0, 60)\n",
    "\n",
    "plt.show()\n",
    "#pickle.dump(fig, open('FigureObject.fig.pickle', 'rb'))\n",
    "#plt.savefig(\"3D_reaching_time_itr2.svg\", format='svg')\n"
   ],
   "metadata": {
    "collapsed": false,
    "pycharm": {
     "name": "#%% left paw iter2 Dataframe unsused\n"
    }
   }
  },
  {
   "cell_type": "code",
   "execution_count": null,
   "outputs": [],
   "source": [
    "x = x.tolist()\n",
    "y = y.tolist()\n",
    "z = z.tolist()\n",
    "\n",
    "import itertools\n",
    "\n",
    "x = list(itertools.chain(*x))\n",
    "y = list(itertools.chain(*y))\n",
    "z = list(itertools.chain(*z))\n",
    "\n",
    "#Sighted - you can make a object for this\n",
    "x_sight = x_sight.tolist()\n",
    "y_sight = y_sight.tolist()\n",
    "z_sight = z_sight.tolist()\n",
    "print(type(z_sight))\n",
    "\n",
    "\n",
    "x_sight = list(itertools.chain(*x_sight))\n",
    "y_sight = list(itertools.chain(*y_sight))\n",
    "z_sight_list = list(itertools.chain(*z_sight))\n",
    "print(type(z_sight))"
   ],
   "metadata": {
    "collapsed": false,
    "pycharm": {
     "name": "#%% Leftpaw columns transformation to list.\n"
    }
   }
  },
  {
   "cell_type": "code",
   "execution_count": null,
   "outputs": [],
   "source": [],
   "metadata": {
    "collapsed": false,
    "pycharm": {
     "name": "#%% Find_peaks and trhoughs to slice them into individual curves - SNOUT- Depricated\n"
    }
   }
  },
  {
   "cell_type": "code",
   "execution_count": null,
   "outputs": [],
   "source": [
    "curvePeaks = simpleKinematics('first try')\n",
    "peak_output, min_indx, x = curvePeaks.curveExtractor(x)\n",
    "peak_output_z, min_ind_z, z = curvePeaks.curveExtractor(z)\n",
    "print(type(z))\n",
    "peak_output_sighted, min_indx_sighted, z_sight = curvePeaks.curveExtractor(x_sight)\n",
    "peak_output_sighted_z, min_indx_sighted_z, z_sight = curvePeaks.curveExtractor(z_sight_list)"
   ],
   "metadata": {
    "collapsed": false,
    "pycharm": {
     "name": "#%% Peaks and max peak extractin from class = in USE\n"
    }
   }
  },
  {
   "cell_type": "code",
   "execution_count": null,
   "outputs": [],
   "source": [
    "# temporary solution to the \"only interger scalar arrays can be converted to a scalar index\"\n",
    "x = np.array(x)\n",
    "peak_output = np.array(peak_output)\n",
    "x_sight = np.array(x_sight)\n",
    "peak_output_sighted = np.array(peak_output_sighted)\n",
    "print(peak_output_sighted)\n",
    "print(min_indx_sighted)"
   ],
   "metadata": {
    "collapsed": false,
    "pycharm": {
     "name": "#%%\n"
    }
   }
  },
  {
   "cell_type": "code",
   "execution_count": null,
   "outputs": [],
   "source": [
    "#plt.plot(x_sight)\n",
    "# plt.gca().invert_yaxis()\n",
    "# plt.plot(peak_output, x[peak_output], \"X\")\n",
    "# plt.gca().invert_yaxis()\n",
    "# plt.xticks(np.arange(0, 900, step = 50))\n",
    "# plt.ylim(200, 280)\n",
    "# plt.xlabel('Time in Seconds')\n",
    "# plt.ylabel('x-displacement from baseline')\n",
    "# plt.title('X-Component of a Single Reach Event Trajectory')\n",
    "# plt.show()\n",
    "\n"
   ],
   "metadata": {
    "collapsed": false,
    "pycharm": {
     "name": "#%% Plotting peaks and signal at the same time\n"
    }
   }
  },
  {
   "cell_type": "code",
   "execution_count": null,
   "outputs": [],
   "source": [
    "# slice curve in half at its peak so its easier to analyze - you can build it into a function later. This is for testing\n",
    "# use min_indx on x to slice before an after. This will generate two arrays, one for extention and during retraction\n",
    "\n",
    "#slice and find duration of each event\n",
    "\n",
    "#separate the event into two\n",
    "phase_extension =  x[0:min_indx]\n",
    "phase_retraction = x[min_indx:]\n",
    "\n",
    "#find duration of each event\n",
    "extension_duration = y[min_indx]\n",
    "retraction_duration = (y[len(y)-1] - y[min_indx])\n",
    "\n",
    "#extract range of index of time\n",
    "time_extension = y[0:min_indx]\n",
    "time_retraction = y[min_indx:]\n",
    "\n",
    "z_extension = z[0:min_indx]\n",
    "z_retraction = z[min_indx:]\n",
    "\n",
    "#Sighted Section\n",
    "phase_extension_sighted =  x_sight[0:min_indx_sighted]\n",
    "phase_retraction_sighted = x_sight[min_indx_sighted:]\n",
    "\n",
    "#find duration of each event\n",
    "extension_duration_sighted = y_sight[min_indx_sighted]\n",
    "retraction_duration_sighted = (y_sight[len(y_sight)-1] - y_sight[min_indx_sighted])\n",
    "\n",
    "#extract range of index of time\n",
    "time_extension_sighted = y_sight[0:min_indx_sighted]\n",
    "time_retraction_sighted = y_sight[min_indx_sighted:]\n",
    "\n",
    "z_extension_sighted = z_sight[0:min_indx_sighted]\n",
    "z_retraction_sighted = z_sight[min_indx_sighted:]\n",
    "\n",
    "\n",
    "\n",
    "\n",
    "#printing for visualizatin - not needed\n",
    "#print(phase_retraction)\n",
    "#print(phase_extension)\n",
    "#print(len(time_retraction))\n",
    "#print(time_extension)"
   ],
   "metadata": {
    "collapsed": false,
    "pycharm": {
     "name": "#%% Single curve analysis pipeline begins here.\n"
    }
   }
  },
  {
   "cell_type": "code",
   "execution_count": null,
   "outputs": [],
   "source": [
    "#Average velocity of the extension phase blind\n",
    "x_displacement_extension = abs(phase_extension[-1] - phase_extension[0])\n",
    "print('blind_extension', x_displacement_extension)\n",
    "\n",
    "x_displacement_extension_sighted = abs(phase_extension_sighted[-1] - phase_extension_sighted[0])\n",
    "print('sighted_extension', x_displacement_extension_sighted)\n",
    "#Average velocity during retraction phase blind\n",
    "x_displacement_retraction = abs(phase_retraction[-1] - phase_retraction[0])\n",
    "print('blind_retraction', x_displacement_retraction)\n",
    "\n",
    "x_displacement_retraction_sighted = abs(phase_retraction_sighted[-1] - phase_retraction_sighted[0])\n",
    "print('sighted_retraction', x_displacement_retraction_sighted)"
   ],
   "metadata": {
    "collapsed": false,
    "pycharm": {
     "name": "#%% Speed, velocity and acceleration all currently in pixels\n"
    }
   }
  },
  {
   "cell_type": "code",
   "execution_count": null,
   "outputs": [],
   "source": [
    "average_velocity_extension = (x_displacement_extension/extension_duration)\n",
    "print('blind_extension', average_velocity_extension)\n",
    "\n",
    "average_velocity_extension_sighted = (x_displacement_extension_sighted/extension_duration_sighted)\n",
    "print('sighted_extension', average_velocity_extension_sighted)\n",
    "\n",
    "average_velocity_retraction = (x_displacement_retraction/retraction_duration)\n",
    "print('blind_retraction', average_velocity_retraction)\n",
    "\n",
    "average_velocity_retraction_sighted= (x_displacement_retraction_sighted/retraction_duration_sighted)\n",
    "print('sighted_retraction', average_velocity_retraction_sighted) #m/s^2"
   ],
   "metadata": {
    "collapsed": false,
    "pycharm": {
     "name": "#%% average velocity pixels/s^2\n"
    }
   }
  },
  {
   "cell_type": "code",
   "execution_count": null,
   "outputs": [],
   "source": [
    "#these numbers are equal because the direction of travel is the same when chunking- however, velocity has a vector component.\n",
    "#\n",
    "# distance_pixels = 35.92 #cm\n",
    "#\n",
    "# speed_extension = (distance_pixels/ extension_duration)\n",
    "# speed_retraction = (distance_pixels/ retraction_duration)\n",
    "#\n",
    "# print(speed_extension)"
   ],
   "metadata": {
    "collapsed": false,
    "pycharm": {
     "name": "#%% speed of movement:  all currently in pixels distance/time\n"
    }
   }
  },
  {
   "cell_type": "code",
   "execution_count": null,
   "outputs": [],
   "source": [
    "#Speed calculation\n",
    "# kinematics_blindFrame = pd.DataFrame()\n",
    "# kinematics_blindFrame['t(s)'] = y\n",
    "# kinematics_blindFrame['x(pix)'] = x\n",
    "# kinematics_blindFrame['v(pix/s)'] = (kinematics_blindFrame['x(pix)']-kinematics_blindFrame['x(pix)'].shift(1))/(kinematics_blindFrame['t(s)'] - kinematics_blindFrame['t(s)'].shift(1))\n",
    "#\n",
    "# #acceleration from speed\n",
    "# kinematics_blindFrame['a(m/s^2)'] = (kinematics_blindFrame['v(pix/s)'] - kinematics_blindFrame['v(pix/s)'].shift(1)) / (kinematics_blindFrame['t(s)'] - kinematics_blindFrame['t(s)'].shift(1))\n",
    "# kinematics_blindFrame =kinematics_blindFrame.fillna(0)"
   ],
   "metadata": {
    "collapsed": false,
    "pycharm": {
     "name": "#%%\n"
    }
   }
  },
  {
   "cell_type": "code",
   "execution_count": null,
   "outputs": [],
   "source": [
    "#method to create tuples of time and desired position\n",
    "def merge(y, x):\n",
    "    merge_list = [(y[i], x[i]) for i in range(0, len(y))]\n",
    "    return merge_list\n",
    "\n",
    "xy_tuple = merge(time_extension, phase_extension)\n",
    "print(xy_tuple)\n",
    "\n",
    "xy_tuple_sighted = merge(time_extension_sighted, phase_extension_sighted)\n",
    "\n",
    "velocities = []\n",
    "for time, pos in xy_tuple:\n",
    "    velocity = float(pos/time)\n",
    "    velocities.append(velocity)\n",
    "\n",
    "print(velocities)\n"
   ],
   "metadata": {
    "collapsed": false,
    "pycharm": {
     "name": "#%% I think this is speed curve - NEED TO FIGURE THIS OUT\n"
    }
   }
  },
  {
   "cell_type": "code",
   "execution_count": null,
   "outputs": [],
   "source": [
    "xy_tuple_retraction = merge(phase_retraction, time_retraction)\n",
    "xy_tuple_retraction_sighted = merge(phase_retraction_sighted, time_retraction_sighted)\n",
    "xy_tuple_extension = merge(phase_extension, time_extension)\n",
    "xy_tuple_extension_sighted = merge(phase_extension_sighted, time_extension_sighted)\n",
    "print(len(xy_tuple_extension))"
   ],
   "metadata": {
    "collapsed": false,
    "pycharm": {
     "name": "#%% Retraction speed curve\n"
    }
   }
  },
  {
   "cell_type": "code",
   "execution_count": null,
   "outputs": [],
   "source": [
    "#Extension blind\n",
    "last_values = [0,0]\n",
    "velocity_extension_frame = []\n",
    "last_velocity = 0\n",
    "time= []\n",
    "delta = 0.1  # Will need to play with this value.\n",
    "terminal_velocity = None\n",
    "for pos, time in xy_tuple_extension:\n",
    "    velocity = (pos - last_values[0]) / (time - last_values[1])\n",
    "    #if abs(velocity - last_velocity) < delta:\n",
    "        #terminal_velocity = velocity\n",
    "        #break\n",
    "    velocity_extension_frame.append(velocity)\n",
    "    #print(velocity)\n",
    "    last_values = [pos, time]\n",
    "    last_velocity = velocity\n",
    "\n",
    "#print('Terminal Velocity:', terminal_velocity)\n",
    "#print(len(velocity_extension_frame))\n",
    "\n",
    "fig, axs = plt.subplots(2)\n",
    "axs[0].grid()\n",
    "axs[1].grid()\n",
    "fig.suptitle('X-Displacement and Velocity of Forepaw During Extension Phase of Reach of Early Blind')\n",
    "plt.gca().invert_yaxis()\n",
    "plt.xlabel('Time (s)')\n",
    "plt.setp(axs[0], ylabel='x_displacement (pix)')\n",
    "plt.setp(axs[1], ylabel='velocity (pix/s2)')\n",
    "axs[0].plot(time_extension, -phase_extension, color = 'r')\n",
    "axs[1].plot(time_extension, velocity_extension_frame, color = 'r')\n",
    "\n",
    "#plt.gca().invert_yaxis()"
   ],
   "metadata": {
    "collapsed": false,
    "pycharm": {
     "name": "#%% Extension blind\n"
    }
   }
  },
  {
   "cell_type": "code",
   "execution_count": null,
   "outputs": [],
   "source": [
    "# #Extension Sighted\n",
    "# last_values = [0,0]\n",
    "# velocity_extension_sighted_frame = []\n",
    "# last_velocity = 0\n",
    "# delta = 0.1  # Will need to play with this value.\n",
    "# terminal_velocity = None\n",
    "# for pos, time in xy_tuple_extension_sighted :\n",
    "#     velocity = (pos - last_values[0]) / (time - last_values[1])\n",
    "#     print(velocity)\n",
    "#     #if abs(velocity - last_velocity) < delta:\n",
    "#         #terminal_velocity = velocity\n",
    "#         #break\n",
    "#     velocity_extension_sighted_frame.append(velocity)\n",
    "#     #print(velocity)\n",
    "#     velocity_extension_sighted_frame = pd.DataFrame(\n",
    "#     {'time': time_extension_sighted,\n",
    "#      'velocity': velocity_extension_sighted_frame})\n",
    "#     last_values = [pos, time]\n",
    "#     last_velocity = velocity\n",
    "#\n",
    "# #print('Terminal Velocity:', terminal_velocity)\n",
    "# #print(len(velocity_extension_frame))\n",
    "# fig, axs = plt.subplots(2)\n",
    "# fig.suptitle('X-Displacement and Velocity of Forepaw During Extension Phase of Reach of Sighted')\n",
    "# axs[0].plot(time_extension_sighted, phase_extension_sighted)\n",
    "# axs[1].plot(velocity_extension_frame['time'], -velocity_extension_frame['velocity'])\n",
    "# #plt.plot(velocity_extension_frame)"
   ],
   "metadata": {
    "collapsed": false,
    "pycharm": {
     "name": "#%% Extension Sighted\n"
    }
   }
  },
  {
   "cell_type": "code",
   "execution_count": null,
   "outputs": [],
   "source": [
    "#Retraction Blind\n",
    "last_values = [0,0]\n",
    "velocity_retraction_frame = []\n",
    "last_velocity = 0\n",
    "delta = 0.1  # Will need to play with this value.\n",
    "terminal_velocity = None\n",
    "for pos, time in xy_tuple_retraction :\n",
    "    velocity = (pos - last_values[0]) / (time - last_values[1])\n",
    "    ##if abs(velocity - last_velocity) < delta:\n",
    "        #terminal_velocity = velocity\n",
    "       # break\n",
    "    velocity_retraction_frame.append(velocity)\n",
    "\n",
    "   # print(velocity)\n",
    "    last_values = [pos, time]\n",
    "    last_velocity = velocity\n",
    "\n",
    "#print('Terminal Velocity:', terminal_velocity)\n",
    "#print(len(velocity_retraction_frame))\n",
    "velocity_retraction_frame = pd.DataFrame(\n",
    "    {'time': time_retraction,\n",
    "     'velocity': velocity_retraction_frame}\n",
    ")\n",
    "fig, axs = plt.subplots(2)\n",
    "fig.suptitle('X-Displacement and Velocity of Forepaw During Retraction Phase of Reach of Early Blind')\n",
    "plt.gca().invert_yaxis()\n",
    "axs[0].plot(time_retraction, -phase_retraction)\n",
    "axs[1].plot(velocity_retraction_frame['time'], velocity_retraction_frame['velocity'] )"
   ],
   "metadata": {
    "collapsed": false,
    "pycharm": {
     "name": "#%% Retraction blind\n"
    }
   }
  },
  {
   "cell_type": "code",
   "execution_count": null,
   "outputs": [],
   "source": [
    "#Retraction sighted\n",
    "last_values = [0,0]\n",
    "velocity_retraction_sighted_frame = []\n",
    "last_velocity = 0\n",
    "delta = 0.1  # Will need to play with this value.\n",
    "terminal_velocity = None\n",
    "for pos, time in xy_tuple_retraction_sighted :\n",
    "    velocity = (pos - last_values[0]) / (time - last_values[1])\n",
    "    ##if abs(velocity - last_velocity) < delta:\n",
    "        #terminal_velocity = velocity\n",
    "       # break\n",
    "    velocity_retraction_sighted_frame.append(velocity)\n",
    "\n",
    "   # print(velocity)\n",
    "    last_values = [pos, time]\n",
    "    last_velocity = velocity\n",
    "\n",
    "#print('Terminal Velocity:', terminal_velocity)\n",
    "#print(len(velocity_retraction_frame))\n",
    "velocity_retraction_sighted_frame = pd.DataFrame(\n",
    "    {'time': time_retraction_sighted,\n",
    "     'velocity': velocity_retraction_sighted_frame}\n",
    ")\n",
    "fig, axs = plt.subplots(2)\n",
    "fig.suptitle('X-Displacement and Velocity of Forepaw During Extension Phase of Reach of Sighted')\n",
    "plt.gca().invert_yaxis()\n",
    "axs[0].plot(time_retraction_sighted, -phase_retraction_sighted)\n",
    "axs[1].plot(velocity_retraction_sighted_frame['time'], velocity_retraction_sighted_frame['velocity'] )\n",
    "#plt.plot(velocity_extension_frame)\n",
    "#plt.plot(velocity_retraction_frame)"
   ],
   "metadata": {
    "collapsed": false,
    "pycharm": {
     "name": "#%% Retraction sighted\n"
    }
   }
  },
  {
   "cell_type": "code",
   "execution_count": null,
   "outputs": [],
   "source": [
    "#Blind Entire Curve\n",
    "xy_tuple_merged = merge(x, y)\n",
    "last_values = [0,0]\n",
    "velocity_frame = []\n",
    "last_velocity = 0\n",
    "delta = 0.1  # Will need to play with this value.\n",
    "terminal_velocity = None\n",
    "for pos, time in xy_tuple_merged :\n",
    "    velocity = (pos - last_values[0]) / (time - last_values[1])\n",
    "    #if abs(velocity - last_velocity) < delta:\n",
    "        #terminal_velocity = velocity\n",
    "        #break\n",
    "    velocity_frame.append(velocity)\n",
    "\n",
    "\n",
    "    last_values = [pos, time]\n",
    "    last_velocity = velocity\n",
    "\n",
    "#print('Terminal Velocity:', terminal_velocity)\n",
    "#print(velocity_frame)\n",
    "velocity_frame = pd.DataFrame(\n",
    "    {'time': y,\n",
    "     'velocity': velocity_frame}\n",
    ")\n",
    "fig, axs = plt.subplots(2)\n",
    "fig.suptitle('X-Displacement and Velocity of Forepaw During Reach of Early Blind')\n",
    "axs[0].grid()\n",
    "axs[1].grid()\n",
    "plt.gca().invert_yaxis()\n",
    "plt.xlabel('Time (s)')\n",
    "plt.setp(axs[0], ylabel='distance from box front (pixels)')\n",
    "plt.setp(axs[1], ylabel='velocity(pix/s2)')\n",
    "axs[0].plot(y, -x, color = 'r')\n",
    "axs[1].plot(velocity_frame['time'], velocity_frame['velocity'], color = 'r')\n",
    "\n",
    "plt.savefig(fname = '/Users/carlospineda/Desktop/MONO GRANT FOR LEAH/x-displacement early blind.svg', format = 'svg')\n"
   ],
   "metadata": {
    "collapsed": false,
    "pycharm": {
     "name": "#%% velocity of entire curve Blind\n"
    }
   }
  },
  {
   "cell_type": "code",
   "execution_count": null,
   "outputs": [],
   "source": [
    "xy_tuple_merged = merge(x_sight, y_sight)\n",
    "last_values = [0,0]\n",
    "velocity_frame = []\n",
    "last_velocity = 0\n",
    "delta = 0.1  # Will need to play with this value.\n",
    "terminal_velocity = None\n",
    "for pos, time in xy_tuple_merged :\n",
    "    velocity = (pos - last_values[0]) / (time - last_values[1])\n",
    "    #if abs(velocity - last_velocity) < delta:\n",
    "        #terminal_velocity = velocity\n",
    "        #break\n",
    "    velocity_frame.append(velocity)\n",
    "\n",
    "\n",
    "    last_values = [pos, time]\n",
    "    last_velocity = velocity\n",
    "\n",
    "#print('Terminal Velocity:', terminal_velocity)\n",
    "#print(velocity_frame)\n",
    "velocity_frame = pd.DataFrame(\n",
    "    {'time': y_sight,\n",
    "     'velocity': velocity_frame}\n",
    ")\n",
    "fig, axs = plt.subplots(2)\n",
    "fig.suptitle('X-Displacement and Velocity of Forepaw During  Reach of Sighted')\n",
    "plt.gca().invert_yaxis()\n",
    "axs[0].grid()\n",
    "axs[1].grid()\n",
    "plt.xlabel('Time (s)')\n",
    "plt.setp(axs[0], ylabel='distance from box front (pixels)')\n",
    "plt.setp(axs[1], ylabel='velocity(pix/s2)')\n",
    "axs[0].plot(y_sight, -x_sight)\n",
    "axs[1].plot(velocity_frame['time'], velocity_frame['velocity'])\n",
    "\n",
    "plt.savefig(fname = '/Users/carlospineda/Desktop/MONO GRANT FOR LEAH/x-displacement sighted.svg', format = 'svg')"
   ],
   "metadata": {
    "collapsed": false,
    "pycharm": {
     "name": "#%% Entire Curve\n"
    }
   }
  },
  {
   "cell_type": "code",
   "execution_count": null,
   "outputs": [],
   "source": [
    "fig_x_trajectory, axs = plt.subplots(2)\n",
    "fig.suptitle('representative rajectory curves from blind and sighted opossums')\n",
    "axs[0].plot(time_extension, -phase_extension)\n",
    "axs[1].plot(time_extension_sighted, -phase_extension_sighted)"
   ],
   "metadata": {
    "collapsed": false,
    "pycharm": {
     "name": "#%%x-component reach trajectory - sighted and blind\n"
    }
   }
  },
  {
   "cell_type": "code",
   "execution_count": null,
   "outputs": [],
   "source": [
    "#Blind forepaw trajectory\n",
    "plt.xlabel('distance from box front')\n",
    "plt.ylabel('distance from box top')\n",
    "plt.title('y-Component of a Single Reach Event Trajectory')\n",
    "\n",
    "\n",
    "z = gaussian_filter1d(z, sigma = 2)\n",
    "plt.gca().invert_yaxis()\n",
    "plt.plot(phase_extension, z_extension)"
   ],
   "metadata": {
    "collapsed": false,
    "pycharm": {
     "name": "#%% Y component of a reach trajectory_blind\n"
    }
   }
  },
  {
   "cell_type": "code",
   "execution_count": null,
   "outputs": [],
   "source": [
    "plt.xlabel('distance from box front')\n",
    "plt.ylabel('distance from box top')\n",
    "plt.title('Retraction Phase of Single Reach of Early Blind Opossums')\n",
    "\n",
    "\n",
    "z = gaussian_filter1d(z, sigma = 2)\n",
    "plt.grid()\n",
    "plt.gca().invert_yaxis()\n",
    "plt.plot(phase_retraction, z_retraction)"
   ],
   "metadata": {
    "collapsed": false,
    "pycharm": {
     "name": "#%%\n"
    }
   }
  },
  {
   "cell_type": "code",
   "execution_count": null,
   "outputs": [],
   "source": [
    "z_sight = gaussian_filter1d(z_sight, sigma = 2)\n",
    "plt.xlabel('distance from box front')\n",
    "plt.ylabel('distance from box top')\n",
    "\n",
    "plt.title('Retraction Phase of Single Reach of Sighted Opossums')\n",
    "plt.grid()\n",
    "plt.gca().invert_yaxis()\n",
    "plt.plot(phase_extension_sighted, z_extension_sighted)"
   ],
   "metadata": {
    "collapsed": false,
    "pycharm": {
     "name": "#%%\n"
    }
   }
  },
  {
   "cell_type": "code",
   "execution_count": null,
   "outputs": [],
   "source": [
    "\n",
    "z_sight = gaussian_filter1d(z_sight, sigma = 2)\n",
    "plt.xlabel('distance from box front')\n",
    "plt.ylabel('distance from box roof (pixels)')\n",
    "\n",
    "plt.title('Retraction Phase of Single Reach of Sighted Opossums')\n",
    "plt.grid()\n",
    "plt.gca().invert_yaxis()\n",
    "plt.plot(phase_retraction_sighted, z_retraction_sighted)"
   ],
   "metadata": {
    "collapsed": false,
    "pycharm": {
     "name": "#%%\n"
    }
   }
  },
  {
   "cell_type": "code",
   "execution_count": null,
   "outputs": [],
   "source": [
    "kinematics_blindFrame = pd.DataFrame()\n",
    "kinematics_blindFrame['t(s)'] = y\n",
    "kinematics_blindFrame['x(pix)'] = x\n",
    "kinematics_blindFrame['v(pix/s)'] = (kinematics_blindFrame['x(pix)']-kinematics_blindFrame['x(pix)'].shift(1))/(kinematics_blindFrame['t(s)'] - kinematics_blindFrame['t(s)'].shift(1))\n",
    "\n",
    "#acceleration from speed\n",
    "kinematics_blindFrame['a(m/s^2)'] = (kinematics_blindFrame['v(pix/s)'] - kinematics_blindFrame['v(pix/s)'].shift(1)) / (kinematics_blindFrame['t(s)'] - kinematics_blindFrame['t(s)'].shift(1))\n",
    "kinematics_blindFrame =kinematics_blindFrame.fillna(0)\n",
    "\n",
    "\n",
    "fig, axs = plt.subplots(3)\n",
    "\n",
    "fig.suptitle('X-Displacement and Velocity of Forepaw During Retraction Phase of Reach of Early Blind')\n",
    "plt.gca().invert_yaxis()\n",
    "axs[0].plot(kinematics_blindFrame['t(s)'], -kinematics_blindFrame['x(pix)'])\n",
    "axs[1].plot(kinematics_blindFrame['t(s)'], kinematics_blindFrame['v(pix/s)'])\n",
    "axs[2].plot(kinematics_blindFrame['t(s)'], kinematics_blindFrame['a(m/s^2)'] )"
   ],
   "metadata": {
    "collapsed": false,
    "pycharm": {
     "name": "#%% plotting multiple body parts together\n"
    }
   }
  },
  {
   "cell_type": "code",
   "execution_count": null,
   "outputs": [],
   "source": [
    "fig = plt.figure()\n",
    "ax1 = fig.add_subplot(111)\n",
    "\n",
    "ax1.plot(kinematics_blindFrame['t(s)'], kinematics_blindFrame['x(pix)'], c = 'b', label = 'left paw')\n",
    "ax1.plot(y_snout, x_snout, c = 'r', label = 'snout')\n",
    "plt.legend(loc= 'upper right')\n",
    "plt.title('snout and forepaw relationship during reaching event of a blind opossum')\n",
    "plt.xlabel('time(s)')\n",
    "plt.ylabel('distance from box front (pixels)')\n",
    "plt.grid()\n",
    "plt.gca().invert_yaxis()\n",
    "\n",
    "\n",
    "#plt.savefig(fname = '/Users/carlospineda/Desktop/MONO GRANT FOR LEAH/x-displacement blind snout and paw.svg', format = 'svg')\n",
    "plt.show()"
   ],
   "metadata": {
    "collapsed": false,
    "pycharm": {
     "name": "#%% Multiple bodyparts comparisons\n"
    }
   }
  },
  {
   "cell_type": "code",
   "execution_count": null,
   "outputs": [],
   "source": [
    "fig = plt.figure()\n",
    "ax1 = fig.add_subplot(111)\n",
    "\n",
    "ax1.plot(y_sight,x_sight,  c = 'b', label = 'left paw')\n",
    "ax1.plot(y_snout_sight, x_snout_sight, c = 'r', label = 'snout')\n",
    "plt.legend(loc= 'upper right')\n",
    "plt.title('snout and forepaw relationship during reaching event of a sighted opossum')\n",
    "plt.xlabel('time(s)')\n",
    "plt.ylabel('distance from box front (pixels)')\n",
    "plt.grid()\n",
    "plt.gca().invert_yaxis()\n",
    "#plt.savefig(fname = '/Users/carlospineda/Desktop/MONO GRANT FOR LEAH/x-displacement sightted snout and paw.svg', format = 'svg')\n",
    "# fig = plt.figure()\n",
    "# ax2 = fig.add_subplot(222)\n",
    "#\n",
    "# ax2.plot(y_sight, x_sight)\n",
    "# ax2.plot(y_snout_sight, x_snout_sight)\n",
    "#\n",
    "# plt.gca().invert_yaxis()\n",
    "# plt.show()"
   ],
   "metadata": {
    "collapsed": false,
    "pycharm": {
     "name": "#%% sightedfig =\n"
    }
   }
  },
  {
   "cell_type": "code",
   "execution_count": null,
   "outputs": [],
   "source": [
    "# z_sight = gaussian_filter1d(z_sight, sigma = 2)\n",
    "# plt.xlabel('distance from box front')\n",
    "# plt.ylabel('distance from box top')\n",
    "#\n",
    "# plt.title('Retraction Phase of Single Reach of Sighted Opossums')\n",
    "# plt.grid()\n",
    "# plt.gca().invert_yaxis()\n",
    "# plt.plot(x_sight, z_sight)\n",
    "# plt.plot(x, z, c ='r')\n",
    "\n",
    "fig, axs = plt.subplots(2, sharey=True)\n",
    "axs[0].grid()\n",
    "axs[1].grid()\n",
    "fig.suptitle('Representative Trajectories of Sighted Control and Early Blind Animals')\n",
    "fig.text(0.04, 0.8, 'distance from box top (pixels)', rotation = 'vertical', va = 'top')\n",
    "#plt.gca().invert_yaxis()\n",
    "plt.xlabel('distance from box front')\n",
    "#plt.setp(axs[0], ylabel='distance from box top (pixels)')\n",
    "#plt.setp(axs[1], ylabel='distance from box top (pixels)')\n",
    "plt.gca().invert_yaxis()\n",
    "#horizontal line\n",
    "axs[0].legend(loc= 'upper right')\n",
    "axs[0].plot([240, 240], [255, 235], color='black')\n",
    "axs[1].plot([240, 240], [255, 235], color='black')\n",
    "\n",
    "#vertical line\n",
    "axs[0].plot([235, 240], [243, 243], color='black')\n",
    "axs[1].plot([235, 240], [243, 243], color='black')\n",
    "axs[0].plot(x_sight, z_sight, color = 'r', label = 'sighted control')\n",
    "axs[1].plot(x+9, z, color = 'b', label = 'early blind')\n",
    "axs[0].legend(loc= 'upper right')\n",
    "axs[1].legend(loc='upper right')\n",
    "plt.savefig(fname = '/Users/carlospineda/Desktop/MONO GRANT FOR LEAH/representative_trajectories.svg', format = 'svg')\n"
   ],
   "metadata": {
    "collapsed": false,
    "pycharm": {
     "name": "#%% Lets figure out a way to plot trajectories in a meaningful way\n"
    }
   }
  },
  {
   "cell_type": "code",
   "execution_count": null,
   "outputs": [],
   "source": [
    "#Here in this smaple code we are combining"
   ],
   "metadata": {
    "collapsed": false,
    "pycharm": {
     "name": "#%%Multi-curve analysis pipeline\n"
    }
   }
  }
 ],
 "metadata": {
  "kernelspec": {
   "display_name": "Python 3",
   "language": "python",
   "name": "python3"
  },
  "language_info": {
   "codemirror_mode": {
    "name": "ipython",
    "version": 2
   },
   "file_extension": ".py",
   "mimetype": "text/x-python",
   "name": "python",
   "nbconvert_exporter": "python",
   "pygments_lexer": "ipython2",
   "version": "2.7.6"
  }
 },
 "nbformat": 4,
 "nbformat_minor": 0
}