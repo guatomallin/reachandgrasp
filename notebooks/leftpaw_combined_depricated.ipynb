{
 "cells": [
  {
   "cell_type": "code",
   "execution_count": 1,
   "metadata": {
    "collapsed": true
   },
   "outputs": [],
   "source": [
    "import pandas as pd\n",
    "\n",
    "import numpy as np\n",
    "import matplotlib.pyplot as plt\n",
    "from preprocessing.classes import simpleKinematics, FilterandThresholds\n",
    "import seaborn as sns\n",
    "import matplotlib.ticker as ticker\n",
    "import seaborn as sns\n",
    "#import h5py\n",
    "import os\n",
    "#import lmfit\n",
    "from scipy.ndimage import gaussian_filter1d\n",
    "from scipy.signal import find_peaks, peak_widths, chirp\n",
    "from math import floor\n",
    "from mpl_toolkits.mplot3d import Axes3D\n",
    "#from sklearn.cluster import KMeans\n",
    "#import deeplabcut\n",
    "from scipy.optimize import curve_fit\n",
    "\n",
    "\n",
    "\n"
   ]
  },
  {
   "cell_type": "code",
   "execution_count": 2,
   "outputs": [
    {
     "name": "stdout",
     "output_type": "stream",
     "text": [
      "          bodyparts       WristR     WristR.1     WristR.2       WristL  \\\n",
      "11080 0      coords            x            y   likelihood            x   \n",
      "      1           0  243.5402056  262.3016491  0.681043684  244.7341208   \n",
      "      2           1  243.5230794  262.4394171  0.575729668  251.4566124   \n",
      "      3           2  243.5097854  262.4108281  0.552612841  251.4025817   \n",
      "      4           3  243.5042795  262.3069792  0.637749612  251.4911625   \n",
      "...             ...          ...          ...          ...          ...   \n",
      "11078 627       626  238.4744034  259.1736585  0.383376598  250.9293416   \n",
      "      628       627  238.4682143  259.1670738  0.370035022  250.9477365   \n",
      "      629       628  238.4545217  259.1534495  0.379853547  250.9673288   \n",
      "      630       629  238.4473002  259.1529198  0.371739447  250.9837712   \n",
      "      631       630  238.4430182  259.1527802  0.364157915  251.0412179   \n",
      "\n",
      "              WristL.1     WristL.2       ElbowR     ElbowR.1     ElbowR.2  \\\n",
      "11080 0              y   likelihood            x            y   likelihood   \n",
      "      1    260.3950853   0.02993281  257.5874903  253.2956511  0.027228985   \n",
      "      2    261.1476763  0.029754911  252.6242515  259.7761967  0.029014342   \n",
      "      3    261.2095697  0.031201465  252.5754251  259.8164334  0.029119045   \n",
      "      4    261.2926928  0.031027166  252.5741946  259.6098631  0.030262696   \n",
      "...                ...          ...          ...          ...          ...   \n",
      "11078 627  261.4208103  0.066129155  245.7615627  254.2762837  0.375724077   \n",
      "      628  261.4138249  0.068338901  245.7655064  254.2946074  0.367113829   \n",
      "      629  261.4028137  0.066844486  245.7617121  254.2939045  0.379358053   \n",
      "      630  261.3686564   0.06840729  245.6976258  254.2507374  0.378230572   \n",
      "      631  261.3133905  0.066298366  245.6825008  254.1551921  0.389048427   \n",
      "\n",
      "           ...     Platform   Platform.1   Platform.2         Slit  \\\n",
      "11080 0    ...            x            y   likelihood            x   \n",
      "      1    ...  219.3453252  244.1164306  0.629671633  227.1269075   \n",
      "      2    ...  219.2997789  244.1071834  0.619957685  227.1121014   \n",
      "      3    ...  219.3155967  244.1214501  0.626517296  227.0449861   \n",
      "      4    ...  219.3112692  244.1463057  0.633229017  227.1628091   \n",
      "...        ...          ...          ...          ...          ...   \n",
      "11078 627  ...  211.7994404  243.4203116  0.977385342  222.0309832   \n",
      "      628  ...  211.8155512  243.4031731  0.977048159  222.0190554   \n",
      "      629  ...  211.7812285  243.4244558  0.976393521  222.0396492   \n",
      "      630  ...  211.7751204  243.4081589  0.975937247  222.0374255   \n",
      "      631  ...  211.7983045  243.3862638  0.975396156  222.0128102   \n",
      "\n",
      "                Slit.1       Slit.2       Reward     Reward.1     Reward.2  \\\n",
      "11080 0              y   likelihood            x            y   likelihood   \n",
      "      1    219.6994861  0.427508593  214.6532807  241.8631868  0.013014455   \n",
      "      2     219.686001  0.442531705  214.6506104  241.8616853    0.0161625   \n",
      "      3    219.6754508  0.453992426  214.6705017   241.895402  0.014943331   \n",
      "      4    219.7031958  0.477220774  214.6843951  241.8619621   0.01488294   \n",
      "...                ...          ...          ...          ...          ...   \n",
      "11078 627  218.4256188   0.11693307  214.6113157  240.5329204  0.035246741   \n",
      "      628  218.4248602  0.113502443  214.6147761  240.4980981  0.035194084   \n",
      "      629  218.4072535  0.113767289  214.6404738  240.5061216  0.033367969   \n",
      "      630  218.3783439  0.119077273  214.6504936  240.5194936  0.032997418   \n",
      "      631  218.3952631  0.118475504  214.6514566  240.5674942  0.032402962   \n",
      "\n",
      "                  Time  \n",
      "11080 0              s  \n",
      "      1              0  \n",
      "      2    0.033333333  \n",
      "      3    0.066666667  \n",
      "      4            0.1  \n",
      "...                ...  \n",
      "11078 627  20.86666667  \n",
      "      628         20.9  \n",
      "      629  20.93333333  \n",
      "      630  20.96666667  \n",
      "      631           21  \n",
      "\n",
      "[1434 rows x 50 columns]\n"
     ]
    },
    {
     "name": "stderr",
     "output_type": "stream",
     "text": [
      "<ipython-input-2-17474841e0e0>:23: SettingWithCopyWarning: \n",
      "A value is trying to be set on a copy of a slice from a DataFrame.\n",
      "Try using .loc[row_indexer,col_indexer] = value instead\n",
      "\n",
      "See the caveats in the documentation: https://pandas.pydata.org/pandas-docs/stable/user_guide/indexing.html#returning-a-view-versus-a-copy\n",
      "  merged_data_multi['groups'] = merged_data_multi.index\n",
      "<ipython-input-2-17474841e0e0>:24: SettingWithCopyWarning: \n",
      "A value is trying to be set on a copy of a slice from a DataFrame.\n",
      "Try using .loc[row_indexer,col_indexer] = value instead\n",
      "\n",
      "See the caveats in the documentation: https://pandas.pydata.org/pandas-docs/stable/user_guide/indexing.html#returning-a-view-versus-a-copy\n",
      "  merged_data_multi['groups'] = [x[0] for x in merged_data_multi['groups']]\n"
     ]
    }
   ],
   "source": [
    "results_11078_fail1 = pd.read_csv(r'/Users/carlospineda/PycharmProjects/scientificProject/data/cleaned_data/results_undistorted_edit500_singlefail_behavior_shape1_2_cam3_11078_091421DeepCut_resnet50_r_d_cam3_2DJul19shuffle1_200000_time30.csv')\n",
    "\n",
    "#11078_success\n",
    "results_11078_success1 = pd.read_csv(r'/Users/carlospineda/PycharmProjects/scientificProject/data/cleaned_data/results_undistorted_edit500_singlesuccess_behavior_shape1_2_cam3_11078_091421DeepCut_resnet50_r_d_cam3_2DJul19shuffle1_200000_time30.csv')\n",
    "#11081_success_sighted\n",
    "data_undistored_singlereach_11081_sighted = pd.read_csv(r'/Users/carlospineda/PycharmProjects/scientificProject/data/cleaned_data/results_undistorted_edit500_2_behavior_shape1_cam3_11081_092421DeepCut_resnet50_rd_cam3_2DJul19shuffle1_20000_time30.csv')\n",
    "\n",
    "\n",
    "data_undistorted_singlereach_11079 = pd.read_csv(r'/Users/carlospineda/PycharmProjects/scientificProject/data/cleaned_data/results_undistorted_edit500_singlereach_behavior_shape2_cam3_11079_071421DeepCut_resnet50_rd_cam3_2DJul19shuffle1_200000_time30.csv')\n",
    "#11080_fail\n",
    "results_11080_fail1 = pd.read_csv(r'/Users/carlospineda/PycharmProjects/scientificProject/data/cleaned_data/results_undistorted_edit500_singlefail_behavior_shape1_2_cam3_11080_091421DeepCut_resnet50_r_d_cam3_2DJul19shuffle1_200000_time30.csv')\n",
    "#11080_success\n",
    "results_11080_success1 = pd.read_csv(r'/Users/carlospineda/PycharmProjects/scientificProject/data/cleaned_data/results_undistorted_edit500_singlesuccess_behavior_shape1_2_cam3_11080_091421DeepCut_resnet50_r_d_cam3_2DJul19shuffle1_200000_time30.csv')\n",
    "\n",
    "frames = [results_11078_success1 , results_11080_success1,data_undistored_singlereach_11081_sighted , data_undistorted_singlereach_11079,  results_11078_success1]\n",
    "merged_data = pd.concat(frames, keys = ['11080',  '11081', '11079', '11078' ])\n",
    "merged_data = merged_data.drop_duplicates(keep = 'first')\n",
    "print(merged_data)\n",
    "\n",
    "Multi_indexer = FilterandThresholds('MultiIndex')\n",
    "merged_data_multi = Multi_indexer.MultiIndexMaker(merged_data)\n",
    "#make the index tuple a new column\n",
    "merged_data_multi['groups'] = merged_data_multi.index\n",
    "merged_data_multi['groups'] = [x[0] for x in merged_data_multi['groups']]\n",
    "\n",
    "#reset the index\n",
    "merged_data_multi = merged_data_multi.reset_index()"
   ],
   "metadata": {
    "collapsed": false,
    "pycharm": {
     "name": "#%%Input and concatenation\n"
    }
   }
  },
  {
   "cell_type": "code",
   "execution_count": 3,
   "outputs": [
    {
     "name": "stdout",
     "output_type": "stream",
     "text": [
      "           WristL                                   Time\n",
      "                x            y   likelihood            s\n",
      "0     244.7341208  260.3950853   0.02993281            0\n",
      "1     251.4566124  261.1476763  0.029754911  0.033333333\n",
      "2     251.4025817  261.2095697  0.031201465  0.066666667\n",
      "3     251.4911625  261.2926928  0.031027166          0.1\n",
      "4     244.5886905  260.5217062  0.047348272  0.133333333\n",
      "...           ...          ...          ...          ...\n",
      "1428  250.9293416  261.4208103  0.066129155  20.86666667\n",
      "1429  250.9477365  261.4138249  0.068338901         20.9\n",
      "1430  250.9673288  261.4028137  0.066844486  20.93333333\n",
      "1431  250.9837712  261.3686564   0.06840729  20.96666667\n",
      "1432  251.0412179  261.3133905  0.066298366           21\n",
      "\n",
      "[1433 rows x 4 columns]\n"
     ]
    }
   ],
   "source": [
    "#Interpolation is tricky - it fills missing values to make the data align to it self. We want to align peaks though.\n",
    "\n",
    "\n",
    "\n",
    "\n",
    "#We can align peaks by the mean\n",
    "#https://stackoverflow.com/questions/19642443/use-of-pandas-shift-to-align-datasets-based-on-scipy-signal-correlate\n",
    "\n",
    "\n",
    "\n",
    "#method 2- can we just plot one axis\n",
    "\n",
    "leftpaw_fileter = FilterandThresholds('LeftPaw')\n",
    "merged_data_multi_leftpaw = leftpaw_fileter.bodypart_selector(merged_data_multi, 'WristL')\n",
    "print(merged_data_multi_leftpaw)"
   ],
   "metadata": {
    "collapsed": false,
    "pycharm": {
     "name": "#%% Interpolation\n"
    }
   }
  },
  {
   "cell_type": "code",
   "execution_count": 4,
   "outputs": [
    {
     "data": {
      "text/plain": "[<matplotlib.lines.Line2D at 0x7fea579f49d0>]"
     },
     "execution_count": 4,
     "metadata": {},
     "output_type": "execute_result"
    },
    {
     "data": {
      "text/plain": "<Figure size 432x288 with 1 Axes>",
      "image/png": "[encoded data removed]"
     },
     "metadata": {
      "needs_background": "light"
     },
     "output_type": "display_data"
    }
   ],
   "source": [
    "#extract coordinates\n",
    "x = merged_data_multi_leftpaw.xs('x', axis=1, level=1, drop_level=False).values.astype(float)\n",
    "z = merged_data_multi_leftpaw.xs('y', axis=1, level=1, drop_level=False).values.astype(float)\n",
    "y = merged_data_multi_leftpaw.xs('s', axis=1, level=1, drop_level=False).values.astype(float)\n",
    "\n",
    "plt.plot(y, x)\n",
    "\n"
   ],
   "metadata": {
    "collapsed": false,
    "pycharm": {
     "name": "#%%\n"
    }
   }
  }
 ],
 "metadata": {
  "kernelspec": {
   "display_name": "Python 3",
   "language": "python",
   "name": "python3"
  },
  "language_info": {
   "codemirror_mode": {
    "name": "ipython",
    "version": 2
   },
   "file_extension": ".py",
   "mimetype": "text/x-python",
   "name": "python",
   "nbconvert_exporter": "python",
   "pygments_lexer": "ipython2",
   "version": "2.7.6"
  }
 },
 "nbformat": 4,
 "nbformat_minor": 0
}