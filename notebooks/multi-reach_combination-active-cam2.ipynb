{
 "cells": [
  {
   "cell_type": "code",
   "execution_count": null,
   "metadata": {
    "collapsed": true
   },
   "outputs": [],
   "source": []
  },
  {
   "cell_type": "code",
   "execution_count": 1,
   "outputs": [],
   "source": [
    "#% This notebook gathers methods from previous iterarions,\n",
    "#% Make sure that everything you add is properly labeled with its purpose.\n",
    "#% There are some on-going questions. For example: What are the best practices...\n",
    "#% ... to properly batch processes multiple files?\n",
    "#% How do I segregate multiple body parts etc."
   ],
   "metadata": {
    "collapsed": false,
    "pycharm": {
     "name": "#%% This notebook is the principal notebook for this project. It\n"
    }
   }
  },
  {
   "cell_type": "code",
   "execution_count": 2,
   "outputs": [],
   "source": [
    "#% What do we use to determine the beginning and end of a reach?\n"
   ],
   "metadata": {
    "collapsed": false,
    "pycharm": {
     "name": "#%% Micro questions related to this process.\n"
    }
   }
  },
  {
   "cell_type": "code",
   "execution_count": 3,
   "outputs": [],
   "source": [
    "import pandas as pd\n",
    "from preprocessing.classes import FilterandThresholds, simpleKinematics\n",
    "import os\n",
    "import re\n",
    "import numpy as np\n",
    "from sympy  import *\n",
    "import matplotlib.pyplot as plt"
   ],
   "metadata": {
    "collapsed": false,
    "pycharm": {
     "name": "#%% Provisional data upload method\n"
    }
   }
  },
  {
   "cell_type": "code",
   "execution_count": 4,
   "outputs": [
    {
     "ename": "FileNotFoundError",
     "evalue": "[WinError 3] The system cannot find the path specified: '/Users/carlospineda/Desktop/TEMP Reaching Results for Code Dev/camera2/'",
     "output_type": "error",
     "traceback": [
      "\u001B[1;31m---------------------------------------------------------------------------\u001B[0m",
      "\u001B[1;31mFileNotFoundError\u001B[0m                         Traceback (most recent call last)",
      "Input \u001B[1;32mIn [4]\u001B[0m, in \u001B[0;36m<cell line: 3>\u001B[1;34m()\u001B[0m\n\u001B[0;32m      1\u001B[0m \u001B[38;5;28;01mimport\u001B[39;00m \u001B[38;5;21;01mre\u001B[39;00m\n\u001B[0;32m      2\u001B[0m Multi_indexer \u001B[38;5;241m=\u001B[39m FilterandThresholds(\u001B[38;5;124m'\u001B[39m\u001B[38;5;124mMultiIndex\u001B[39m\u001B[38;5;124m'\u001B[39m)\n\u001B[1;32m----> 3\u001B[0m files \u001B[38;5;241m=\u001B[39m [file \u001B[38;5;28;01mfor\u001B[39;00m file \u001B[38;5;129;01min\u001B[39;00m \u001B[43mos\u001B[49m\u001B[38;5;241;43m.\u001B[39;49m\u001B[43mlistdir\u001B[49m\u001B[43m(\u001B[49m\u001B[38;5;124;43m'\u001B[39;49m\u001B[38;5;124;43m/Users/carlospineda/Desktop/TEMP Reaching Results for Code Dev/camera2/\u001B[39;49m\u001B[38;5;124;43m'\u001B[39;49m\u001B[43m)\u001B[49m]\n\u001B[0;32m      6\u001B[0m multi_reach\u001B[38;5;241m=\u001B[39m pd\u001B[38;5;241m.\u001B[39mDataFrame()\n\u001B[0;32m      7\u001B[0m csvs_animalNum \u001B[38;5;241m=\u001B[39m []\n",
      "\u001B[1;31mFileNotFoundError\u001B[0m: [WinError 3] The system cannot find the path specified: '/Users/carlospineda/Desktop/TEMP Reaching Results for Code Dev/camera2/'"
     ]
    }
   ],
   "source": [
    "import re\n",
    "Multi_indexer = FilterandThresholds('MultiIndex')\n",
    "files = [file for file in os.listdir('/Users/carlospineda/Desktop/TEMP Reaching Results for Code Dev/camera2/')]\n",
    "\n",
    "\n",
    "multi_reach= pd.DataFrame()\n",
    "csvs_animalNum = []\n",
    "\n",
    "\n",
    "\n",
    "for file in files:\n",
    "    #read csv\n",
    "\n",
    "    #We're going to have to avoid hidden files with an if statement\n",
    "    if not file.startswith('.'):\n",
    "        csv = pd.read_csv('/Users/carlospineda/Desktop/TEMP Reaching Results for Code Dev/camera2/' + file)\n",
    "\n",
    "\n",
    "        csv = Multi_indexer.MultiIndexMaker(csv)\n",
    "\n",
    "        #We also have to add a column for reach count - otherwise files from the same animal will connect with one an other.\n",
    "        #We can use regex again to look for _int_ pattern in the file name, and write in a new column.\n",
    "\n",
    "\n",
    "        #Search for animal number from the file name and put it in a new column\n",
    "        csvs_animalNum = list([int(n) for n in re.findall(r'\\d+', file) if len(n) == 5 ] * len(csv.index))\n",
    "\n",
    "        #Search for animal reach number\n",
    "\n",
    "        csv['Animal Infor', 'Reach Number'] = [re.findall(r'_\\d{1,2}_', str(file)).pop(0).lstrip('_').rstrip('_')] * len(csv.index)\n",
    "        #print(strikeString)\n",
    "\n",
    "        #We're going to add a cumsum and and a diffeference column to each strike per animal. We're going to align by y values\n",
    "\n",
    "        #look for animal condition\n",
    "        animalCond_blindBool = re.search(r'_blind_', str(file))\n",
    "        animalCond_contBool = re.search(r'_control_', str(file))\n",
    "        if animalCond_blindBool:\n",
    "            csv['Animal Infor', 'Condition'] = list(['blind'] * len(csv.index))\n",
    "\n",
    "        elif animalCond_contBool:\n",
    "            csv['Animal Infor', 'Condition'] = list(['control'] * len(csv.index))\n",
    "\n",
    "\n",
    "\n",
    "        csv['Animal Infor','ID'] = csvs_animalNum\n",
    "\n",
    "        multi_reach = pd.concat([multi_reach, csv], ignore_index = True)"
   ],
   "metadata": {
    "collapsed": false,
    "pycharm": {
     "name": "#%%\n"
    }
   }
  },
  {
   "cell_type": "code",
   "execution_count": null,
   "outputs": [],
   "source": [
    "# multi_reach.to_csv('/Users/carlospineda/Desktop/TEMP Reaching Results for Code Dev/camera2/tocsv.csv')"
   ],
   "metadata": {
    "collapsed": false,
    "pycharm": {
     "name": "#%%\n"
    }
   }
  },
  {
   "cell_type": "code",
   "execution_count": null,
   "outputs": [],
   "source": [
    "# import re\n",
    "# import matplotlib.pyplot as plt\n",
    "#\n",
    "# Multi_indexer = FilterandThresholds('MultiIndex')\n",
    "# files = [file for file in os.listdir('/Users/carlospineda/Desktop/TEMP Reaching Results for Code Dev/camera2/')]\n",
    "# file = files[1]\n",
    "# file\n",
    "# multi_reach= pd.DataFrame()\n",
    "# csvs_animalNum = []\n",
    "# if not file.startswith('.'):\n",
    "#     csv = pd.read_csv('/Users/carlospineda/Desktop/TEMP Reaching Results for Code Dev/camera2/' + file)\n",
    "#\n",
    "#\n",
    "#     csv = Multi_indexer.MultiIndexMaker(csv)\n",
    "#\n",
    "#     #We also have to add a column for reach count - otherwise files from the same animal will connect with one an other.\n",
    "#     #We can use regex again to look for _int_ pattern in the file name, and write in a new column.\n",
    "#\n",
    "#\n",
    "#     #Search for animal number from the file name and put it in a new column\n",
    "#     csvs_animalNum = list([int(n) for n in re.findall(r'\\d+', file) if len(n) == 5 ] * len(csv.index))\n",
    "#\n",
    "#     #Search for animal reach number\n",
    "#\n",
    "#     csv['Animal Infor', 'Reach Number'] = [re.findall(r'_\\d{1,2}_', str(file)).pop(0).lstrip('_').rstrip('_')] * len(csv.index)\n",
    "#     #print(strikeString)\n",
    "#\n",
    "#     #We're going to add a cumsum and and a diffeference column to each strike per animal. We're going to align by y values\n",
    "#\n",
    "#     #look for animal condition\n",
    "#     animalCond_blindBool = re.search(r'_blind_', str(file))\n",
    "#     animalCond_contBool = re.search(r'_control_', str(file))\n",
    "#     if animalCond_blindBool:\n",
    "#         csv['Animal Infor', 'Condition'] = list(['blind'] * len(csv.index))\n",
    "#\n",
    "#     elif animalCond_contBool:\n",
    "#         csv['Animal Infor', 'Condition'] = list(['control'] * len(csv.index))\n",
    "#\n",
    "#\n",
    "#\n",
    "#     csv['Animal Infor','ID'] = csvs_animalNum\n",
    "#\n",
    "#     multi_reach = pd.concat([multi_reach, csv], ignore_index = True)\n",
    "# multi_reach.head()\n",
    "\n",
    "#"
   ],
   "metadata": {
    "collapsed": false,
    "pycharm": {
     "name": "#%% Velocity Test Sight\n"
    }
   }
  },
  {
   "cell_type": "code",
   "execution_count": null,
   "outputs": [],
   "source": [
    "#We should add the ability to filter predictions- in this case accurate tracking isnt imperative.\n",
    "\n",
    "\n",
    "bodypartSelector = FilterandThresholds('TestingThis')\n",
    "\n",
    "Platform = bodypartSelector.bodypart_selector(multi_reach, 'Platform', likelihoodSelect=True)\n",
    "Platform.head()"
   ],
   "metadata": {
    "collapsed": false,
    "pycharm": {
     "name": "#%% Select bodypart\n"
    }
   }
  },
  {
   "cell_type": "code",
   "execution_count": null,
   "outputs": [],
   "source": [
    "\n",
    "#This looks kind of fucked, and not cure like. Also, there are no labels.\n",
    "#The data is also not mapping - but this is probably due to differencs in the analysis.\n",
    "\n",
    "import seaborn as sns\n",
    "\n",
    "WristR = bodypartSelector.bodypart_selector(multi_reach, 'WristR', likelihoodSelect=True)\n",
    "\n",
    "\n",
    "plt.rcParams['figure.figsize'] = (20, 7)\n",
    "my_pal = {'blind' : 'mediumblue', 'control':'crimson'}\n",
    "ax = sns.lineplot(x = 'Time', y = 'y', hue = 'Condition', data = WristR)\n",
    "plt.xlabel('Frame', fontsize=20)\n",
    "plt.ylabel('RFRy_disp (pixels)', fontsize=20)\n",
    "plt.tick_params(axis = 'both', which = 'major', labelsize = 20)\n",
    "#ax.invert_yaxis()\n",
    "plt.legend(loc=1, prop={'size': 19})\n"
   ],
   "metadata": {
    "collapsed": false,
    "pycharm": {
     "name": "#%% The next step is to visualize the data in separate components. This data set only contains one paw, but in theory it should plot x, y, z and likelyhood\n"
    }
   }
  },
  {
   "cell_type": "code",
   "execution_count": null,
   "outputs": [],
   "source": [
    "#Try one\n",
    "WristL = bodypartSelector.bodypart_selector(multi_reach, 'WristL' , likelihoodSelect=True)\n",
    "\n",
    "#Group dataframe by reach and number\n",
    "WristLbyReach = WristL.groupby(['Reach Number', 'ID'])\n",
    "keys = WristLbyReach.groups.keys()\n",
    "x =[]\n",
    "reaches = []\n",
    "for key in keys:\n",
    "    reach = WristLbyReach['y'].get_group(key)\n",
    "    Time =  WristLbyReach.get_group(key)\n",
    "    reaches.append(reach)\n",
    "    x.append(Time)\n",
    "    #print(reaches)"
   ],
   "metadata": {
    "collapsed": false,
    "pycharm": {
     "name": "#%%\n"
    }
   }
  },
  {
   "cell_type": "code",
   "execution_count": null,
   "outputs": [],
   "source": [
    "#Now we're iterating throught he groups.\n",
    "constantAccVelocity = pd.DataFrame()\n",
    "WristLExtendCleaned = pd.DataFrame()\n",
    "cleanedData = pd.DataFrame()\n",
    "velocityChancla = simpleKinematics('tester')\n",
    "curvePeaks = simpleKinematics('multi_reach')\n",
    "splitter = FilterandThresholds('Tester single reach')\n",
    "\n",
    "for reach, ID in WristLbyReach:\n",
    "    ID = pd.DataFrame(ID)\n",
    "    #Calculate the raw velocity and store in dataframe -\n",
    "    velocity = velocityChancla.velocity(ID, 'y')\n",
    "\n",
    "    trough_output_velocity, peak_output_velocity, min_indy, velocity, promineneces_velocity = curvePeaks.curveExtractor(velocity, trough_height=2, trough_width=None, peak_height=2000, peak_width=None, prominences=45, gausFilter=False)\n",
    "\n",
    "    #We need to concatenate all signals\n",
    "    Cleaned, ExtendCleaned = splitter.splitter(signal=ID, velocity_peaks=peak_output_velocity, whichPlane='y' )\n",
    "    Cleaned['Time_Aligned'] = np.arange(0, (0.003 * len(Cleaned)), 0.003)\n",
    "    ExtendCleaned['Time_Aligned'] = np.arange(0, (0.003 * len(ExtendCleaned)), 0.003)\n",
    "\n",
    "    cleanedData = pd.concat([cleanedData, Cleaned], ignore_index=True)\n",
    "    WristLExtendCleaned = pd.concat([WristLExtendCleaned, ExtendCleaned], ignore_index=True)"
   ],
   "metadata": {
    "collapsed": false,
    "pycharm": {
     "name": "#%%\n"
    }
   }
  },
  {
   "cell_type": "code",
   "execution_count": null,
   "outputs": [],
   "source": [
    "ReachNumClean = cleanedData[cleanedData['Reach Number'] == '20']\n",
    "ReachNum = cleanedData[cleanedData['Reach Number'] == '20']\n",
    "plt.rcParams['figure.figsize'] = (20, 7)\n",
    "my_pal = {'blind' : 'mediumblue', 'control':'crimson'}\n",
    "ax = sns.lineplot(x = 'Time_Aligned', y = 'y', hue = 'Condition', data = ReachNumClean)\n",
    "plt.xlabel('Frame', fontsize=20)\n",
    "plt.ylabel('RFRy_disp (pixels)', fontsize=20)\n",
    "plt.tick_params(axis = 'both', which = 'major', labelsize = 20)\n",
    "ax.invert_yaxis()\n",
    "plt.legend(loc=1, prop={'size': 19})"
   ],
   "metadata": {
    "collapsed": false,
    "pycharm": {
     "name": "#%%\n"
    }
   }
  },
  {
   "cell_type": "code",
   "execution_count": null,
   "outputs": [],
   "source": [
    "plt.rcParams['figure.figsize'] = (20, 7)\n",
    "my_pal = {'blind' : 'mediumblue', 'control':'crimson'}\n",
    "ax = sns.lineplot(x = 'Time_Aligned', y = 'y', hue = 'Condition', data = WristLExtendCleaned)\n",
    "plt.xlabel('Frame', fontsize=20)\n",
    "plt.ylabel('RFRy_disp (pixels)', fontsize=20)\n",
    "plt.tick_params(axis = 'both', which = 'major', labelsize = 20)\n",
    "ax.invert_yaxis()\n",
    "plt.legend(loc=1, prop={'size': 19})"
   ],
   "metadata": {
    "collapsed": false,
    "pycharm": {
     "name": "#%%\n"
    }
   }
  },
  {
   "cell_type": "code",
   "execution_count": null,
   "outputs": [],
   "source": [],
   "metadata": {
    "collapsed": false,
    "pycharm": {
     "name": "#%%\n"
    }
   }
  },
  {
   "cell_type": "code",
   "execution_count": null,
   "outputs": [],
   "source": [
    "# WristLExtendCleaned = WristLExtendCleaned.groupby('Reach Number')\n",
    "# size = WristLExtendCleaned.size()\n",
    "# print(size)"
   ],
   "metadata": {
    "collapsed": false,
    "pycharm": {
     "name": "#%%\n"
    }
   }
  },
  {
   "cell_type": "code",
   "execution_count": null,
   "outputs": [],
   "source": [],
   "metadata": {
    "collapsed": false,
    "pycharm": {
     "name": "#%%\n"
    }
   }
  },
  {
   "cell_type": "code",
   "execution_count": null,
   "outputs": [],
   "source": [
    "#Using np.gradient to calculate velocty\n",
    "x_t = np.gradient(WristLExtendCleaned['Time'])\n",
    "y_t = np.gradient(WristLExtendCleaned['y'])\n",
    "\n",
    "velocity = np.array([ [x_t[i], y_t[i]] for i in range(x_t.size)])\n",
    "#print(velocity)\n",
    "x_a = np.gradient(x_t)\n",
    "y_a = np.gradient(y_t)\n",
    "\n",
    "acceleraton = np.array([ [x_a[i], y_a[i]] for i in range(x_a.size)])\n",
    "#print(acceleraton)\n",
    "plt.plot(velocity)\n",
    "plt.plot(acceleraton)\n",
    "\n",
    "\n",
    "plt.show()"
   ],
   "metadata": {
    "collapsed": false,
    "pycharm": {
     "name": "#%%\n"
    }
   }
  },
  {
   "cell_type": "code",
   "execution_count": null,
   "outputs": [],
   "source": [
    "#Now calculate speed\n",
    "speed = np.sqrt(x_t * x_t + y_t * y_t)\n",
    "print(speed)\n",
    "\n",
    "plt.plot(speed)\n",
    "\n",
    "\n",
    "plt.show()\n",
    "\n",
    "#This finds the max peak - we need to create a window around the pea\n",
    "#How do we use this number to further cut the dataframe?\n",
    "#Lets try bounding the dataframe by whatever peaks there are- this should be robust in case there are higher velocity peaks\n",
    "#We can look for the nearest peak behind the max index.\n",
    "\n",
    "#Lets create an algorithm to find points in the velocity frame that exeeds 20% of the peak velocit"
   ],
   "metadata": {
    "collapsed": false,
    "pycharm": {
     "name": "#%%\n"
    }
   }
  },
  {
   "cell_type": "code",
   "execution_count": null,
   "outputs": [],
   "source": [
    "# from scipy.optimize import curve_fit\n",
    "# def objective(x, a, b, c, d, e, f):\n",
    "#     return (a * x) + (b * x**2) + (c * x**3) + (d * x**4) + (e * x**5) + f\n",
    "#\n",
    "# x, y = WristLExtendCleaned['Time'], WristLExtendCleaned['y']\n",
    "#\n",
    "# popt, _ = curve_fit(objective, x, y)\n",
    "#\n",
    "# a, b, c, d, e, f = popt\n",
    "# print('y = %.5f * x + %.5f * x^2 + %.5f + x^3 + %.5f + x^4 + %.5f + x^5 + %.5f' % (a, b, c, d, e, f))\n",
    "#\n",
    "# plt.scatter(x, y)\n",
    "#\n",
    "#\n",
    "# x_line = np.linspace(min(x), max(x))\n",
    "# y_line = objective(x_line, a, b, c, d, e, f)\n",
    "#\n",
    "# plt.plot(x_line, y_line, '--', color='red')\n",
    "# plt.gca().invert_yaxis()\n",
    "# plt.show()\n",
    "#"
   ],
   "metadata": {
    "collapsed": false,
    "pycharm": {
     "name": "#%% Calculating Velocity with Calculus\n"
    }
   }
  },
  {
   "cell_type": "code",
   "execution_count": null,
   "outputs": [],
   "source": [
    "# x = Symbol('x')\n",
    "# f = (1312414 * x) + (-4891866 * x**2) + (9013961* x**3) + (-8221780 * x**4) + (2972624 * x**5) + -138898\n",
    "# f_prime = f.diff(x)\n",
    "# print(f_prime)"
   ],
   "metadata": {
    "collapsed": false,
    "pycharm": {
     "name": "#%%\n"
    }
   }
  },
  {
   "cell_type": "code",
   "execution_count": null,
   "outputs": [],
   "source": [
    "Snout = bodypartSelector.bodypart_selector(multi_reach, 'Snout' , likelihoodSelect=True)\n",
    "WristL.head()\n",
    "\n",
    "plt.rcParams['figure.figsize'] = (20, 7)\n",
    "my_pal = {'blind' : 'mediumblue', 'control':'crimson'}\n",
    "ax = sns.lineplot(x = 'Time', y = 'y', hue = 'Condition', data = Snout)\n",
    "plt.xlabel('Frame', fontsize=20)\n",
    "plt.ylabel('Snout_disp (cm)', fontsize=20)\n",
    "plt.tick_params(axis = 'both', which = 'major', labelsize = 20)\n",
    "\n",
    "ax.invert_yaxis()\n",
    "\n",
    "plt.legend(loc=1, prop={'size': 19})\n"
   ],
   "metadata": {
    "collapsed": false,
    "pycharm": {
     "name": "#%% Ear left\n"
    }
   }
  },
  {
   "cell_type": "code",
   "execution_count": null,
   "outputs": [],
   "source": [
    "\n",
    "\n"
   ],
   "metadata": {
    "collapsed": false,
    "pycharm": {
     "name": "#%%\n"
    }
   }
  },
  {
   "cell_type": "code",
   "execution_count": null,
   "outputs": [],
   "source": [
    "\n",
    "# fig, ax = plt.subplots(figsize=(8,6))\n",
    "#\n",
    "# #Initial test is okay\n",
    "# WristR.groupby(['Condition', 'Reach Number']).plot(kind = 'line', x = 'Time', y = 'x', ax = ax)\n",
    "# ax.invert_yaxis()\n",
    "# plt.show()\n",
    "\n",
    "\n",
    "\n",
    "\n",
    "# axs[0].grid()\n",
    "# axs[1].grid()\n",
    "# axs[2].grid()\n",
    "# fig.suptitle('X-Displacement and Y-Displacement Reach of Control')\n",
    "#\n",
    "# plt.xlabel('Time (s)')\n",
    "# plt.setp(axs[0], ylabel='x_displacement (pix)')\n",
    "# plt.setp(axs[1], ylabel='y_displacement (pix)')\n",
    "# plt.setp(axs[2], ylabel = 'likelihood (0.1)')\n",
    "#\n",
    "# multi_reach.Wrist\n",
    "# #Plot different body parts from the csv\n",
    "# axs[0].plot(csv.coords, csv.x, color = 'r')\n",
    "# axs[1].plot(multi_reach_filtered.coords, multi_reach_filtered.y, color = 'r')\n",
    "# axs[2].plot(multi_reach_filtered.coords, multi_reach_filtered.likelihood, color = 'b')\n",
    "# #Add Z component of whatever body part here.\n",
    "# #We need to cushion the filtered dataset so that the time scale is not distorted - try interpollating\n",
    "# plt.gca().invert_yaxis()\n",
    "# plt.show()\n"
   ],
   "metadata": {
    "collapsed": false,
    "pycharm": {
     "name": "#%%\n"
    }
   }
  },
  {
   "cell_type": "code",
   "execution_count": null,
   "outputs": [],
   "source": [
    "\n",
    "\n"
   ],
   "metadata": {
    "collapsed": false,
    "pycharm": {
     "name": "#%%\n"
    }
   }
  }
 ],
 "metadata": {
  "kernelspec": {
   "display_name": "Python 3",
   "language": "python",
   "name": "python3"
  },
  "language_info": {
   "codemirror_mode": {
    "name": "ipython",
    "version": 2
   },
   "file_extension": ".py",
   "mimetype": "text/x-python",
   "name": "python",
   "nbconvert_exporter": "python",
   "pygments_lexer": "ipython2",
   "version": "2.7.6"
  }
 },
 "nbformat": 4,
 "nbformat_minor": 0
}