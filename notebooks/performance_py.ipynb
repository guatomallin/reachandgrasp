{
 "cells": [
  {
   "cell_type": "code",
   "execution_count": 1,
   "metadata": {
    "collapsed": true,
    "pycharm": {
     "name": "#%%\n"
    }
   },
   "outputs": [],
   "source": [
    "#The point of this notebook is to aquire and analyze the performance of opossums in the reaching and grasping task.\n",
    "\n",
    "#We will apply a bath loading pipeline developed elsewhere\n",
    "\n",
    "#We will extract performance and limb selecton data\n",
    "\n",
    "#We will apply appropriate statistics to analyze this data."
   ]
  },
  {
   "cell_type": "code",
   "execution_count": 2,
   "outputs": [],
   "source": [
    "#Packages\n",
    "\n",
    "import re\n",
    "import pandas as pd\n",
    "import os\n",
    "import numpy as np\n",
    "import matplotlib.pyplot as plt\n",
    "\n",
    "#Classes\n",
    "from preprocessing.classes import BatchLoader\n",
    "batchLoader = BatchLoader('tester')\n",
    "\n"
   ],
   "metadata": {
    "collapsed": false,
    "pycharm": {
     "name": "#%%\n"
    }
   }
  },
  {
   "cell_type": "code",
   "execution_count": 3,
   "outputs": [
    {
     "name": "stdout",
     "output_type": "stream",
     "text": [
      "no misses in thisbehavior_shape4_cam3_21055_blind__light_whisk_smell_121821.csv\n",
      "no sweeps in thisbehavior_shape4_cam3_21055_blind__light_whisk_smell_121821.csv\n",
      "no sweeps in thisbehavior_shape4_cam2_11090_blind_light_whisk_smell_122421.csv\n",
      "no sweeps in thisbehavior_test3_cam2_11094_control_dark_whisk_smell_031022.csv\n",
      "no sweeps in thisbehavior_test3_cam3_11093_blind_dark_whisk_smell_031022.csv\n",
      "no sweeps in thisbehavior_test3_cam2_11093_blind_dark_whisk_smell_031022.csv\n",
      "no contact in thisbehavior_test3_cam3_11094_control_dark_whisk_smell_031022.csv\n",
      "no sweeps in thisbehavior_test3_cam3_11094_control_dark_whisk_smell_031022.csv\n",
      "no sweeps in thisbehavior_test3_cam1_11092_blind_dark_whisk_smell_031022.csv\n",
      "no sweeps in thisbehavior_test3_cam3_11092_blind_dark_whisk_smell_031022.csv\n",
      "no sweeps in thisbehaviour_test3_cam1_11093_blind_dark_whisk_smell_031022.csv\n",
      "no sweeps in thisbehavior_test3_cam2_11092_blind_dark_whisk_smell_031022.csv\n",
      "no sweeps in thisbehavior_shape4_cam2_11093_blind_light_whisk_smell_121621_p2.csv\n",
      "no sweeps in thisbehavior_shape4_cam2_21064_blind_light_whisk_smell_122221.csv\n",
      "no misses in thisbehavior_test3_cam1_21055_blind_dark_whisk_smell_031022.csv\n",
      "no sweeps in thisbehavior_test3_cam1_21055_blind_dark_whisk_smell_031022.csv\n",
      "no sweeps in thisbehavior_shape4_cam2_11079_control_light_whisk_smelll_122421.csv\n",
      "no sweeps in thisbehavior_test3_cam2_21066_control_dark_whisk_smell_031022_p2.csv\n",
      "no sweeps in thisbehavior_test3_cam1_21066_control_dark_whisk_smell_031022.csv\n",
      "no misses in thisbehavior_test3_cam3_21055_blind_dark_whisk_smell_031022.csv\n",
      "no contact in thisbehavior_test3_cam3_21055_blind_dark_whisk_smell_031022.csv\n",
      "no sweeps in thisbehavior_test3_cam3_21055_blind_dark_whisk_smell_031022.csv\n",
      "no misses in thisbehavior_test3_cam2_21055_blind_dark_whisk_smell_031022.csv\n",
      "no contact in thisbehavior_test3_cam2_21055_blind_dark_whisk_smell_031022.csv\n",
      "no sweeps in thisbehavior_test3_cam2_21055_blind_dark_whisk_smell_031022.csv\n",
      "no sweeps in thisbehavior_test3_cam1_11079_control_dark_whisk_smell_031022.csv\n",
      "no sweeps in thisbehavior_test3_cam1_11094_control_dark_whisk_smell_031022.csv\n",
      "no misses in thisbehavior_shape4_cam3_21066_control_light_whisk_smell_121821.csv\n",
      "no sweeps in thisbehavior_shape4_cam3_21066_control_light_whisk_smell_121821.csv\n",
      "no sweeps in thisbehavior_shape4_cam3_11094_control_light_whisk_smell_121821.csv\n",
      "   Performance Condition  Light Whisk    Smell\n",
      "0          NaN     blind  light  trim    smell\n",
      "0     0.700000     blind  light  trim    smell\n",
      "0     0.590909   control   dark  trim    smell\n",
      "0     0.395833     blind   dark  trim    smell\n",
      "0     0.260870     blind   dark  trim    smell\n",
      "0     0.857143   control   dark  trim    smell\n",
      "0     0.758621     blind   dark  trim    smell\n",
      "0     0.550000     blind   dark  trim    smell\n",
      "0     0.395833     blind   dark  trim    smell\n",
      "0     0.535714     blind   dark  trim    smell\n",
      "0     0.166667     blind  light  trim    smell\n",
      "0     0.564103     blind  light  trim    smell\n",
      "0     0.666667     blind   dark  trim    smell\n",
      "0     0.333333   control  light  trim  unsmell\n",
      "0     0.777778   control   dark  trim    smell\n",
      "0     0.769231   control   dark  trim    smell\n",
      "0     0.600000     blind   dark  trim    smell\n",
      "0     0.800000     blind   dark  trim    smell\n",
      "0     0.333333   control   dark  trim    smell\n",
      "0     0.681818   control   dark  trim    smell\n",
      "0     0.909091   control  light  trim    smell\n",
      "0     0.681818   control  light  trim    smell\n"
     ]
    }
   ],
   "source": [
    "#Bathload and arrange\n",
    "\n",
    "\n",
    "#Use Bathloader to fetch the files\n",
    "path = '/Users/carlospineda/Desktop/TEMP Reaching Results for Code Dev/performance/'\n",
    "files = batchLoader.getFile(path)\n",
    "performance_multi = pd.DataFrame()\n",
    "performancePerFile = pd.DataFrame()\n",
    "for file in files:\n",
    "    if not file.startswith('.'):\n",
    "        csv = pd.read_csv(path + file)\n",
    "        csv = csv[14:].reset_index(drop = True)\n",
    "        #print(csv)\n",
    "        csv.columns = csv.iloc[0]\n",
    "\n",
    "        #Calculate percent performance as ((1*contact) + (2*Sweep/Drop) + (3*success))/(3*TotalReachAttempts)\n",
    "        #print(len(csv))\n",
    "        #Performance for this file\n",
    "\n",
    "        #Initialize variables\n",
    "        miss = 0\n",
    "        contact = 0\n",
    "        SweepDrop = 0\n",
    "        success = 0\n",
    "\n",
    "        #figure out what behaviors were coded\n",
    "        uniques = csv['Behavior'].unique()\n",
    "\n",
    "        #get number of reaches\n",
    "        TotalReachAttempts = len(csv)\n",
    "\n",
    "        #get number of occurrances per behavior\n",
    "        numContacts = csv['Behavior'].value_counts()\n",
    "\n",
    "        #In case any are missing, use if statements.\n",
    "        if 'miss' in uniques:\n",
    "            miss = numContacts['miss']\n",
    "        else:\n",
    "            print('no misses in this' +''+ file)\n",
    "\n",
    "        if 'contact' in uniques:\n",
    "            contact = numContacts['contact']\n",
    "        else:\n",
    "            print('no contact in this'+ file)\n",
    "\n",
    "        if 'Sweep/Drop' in uniques:\n",
    "            SweepDrop = numContacts['SweepDrop']\n",
    "        else:\n",
    "            print('no sweeps in this' + file)\n",
    "\n",
    "        if 'success' in uniques:\n",
    "            success = numContacts['success']\n",
    "        else:\n",
    "            print('no successes in this' + file)\n",
    "\n",
    "\n",
    "        #CALCULATE PERFORAMANCE\n",
    "        #performance = (((1*contact) + (2*SweepDrop) + (3*success))/(3*(len(csv)-1)))\n",
    "        performance = (success)/(len(csv))\n",
    "        #print(performance)\n",
    "        #ADD COLUMNS\n",
    "            #This should add the column we want.\n",
    "        performancePerFile['Performance']= np.nan\n",
    "        performancePerFile['Condition'] = np.nan\n",
    "        performancePerFile['Light'] = np.nan\n",
    "        performancePerFile['Whisk'] = np.nan\n",
    "        performancePerFile['Smell'] = np.nan\n",
    "\n",
    "        #add the performance measure to the performance column\n",
    "        performancePerFile['Performance'] = performance\n",
    "\n",
    "        #Use regex to extract file text from the title.\n",
    "        animalCond_blindBool = re.search(r'_blind_', str(file))\n",
    "        animalCond_contBool = re.search(r'_control_', str(file))\n",
    "        #light condition\n",
    "        trialCond_darkBool = re.search(r'_dark_',  str(file))\n",
    "        trialCond_lightBool = re.search(r'_light_',  str(file))\n",
    "        #whisker condition\n",
    "        trialCond_trimBool = re.search(r'_whisk_',  str(file))\n",
    "        trialCond_untrimBool = re.search(r'_unwhisk_',  str(file))\n",
    "        #Smell condition\n",
    "        trialCond_smellBool = re.search(r'_smell_', str(file))\n",
    "        trialCond_unsmellBool = re.search(r'_unsmell_', str(file))\n",
    "\n",
    "\n",
    "        #Add condition of the animal (blind/control) to the condition column.\n",
    "        if animalCond_blindBool:\n",
    "            performancePerFile['Condition'] = list(['blind'])\n",
    "        elif animalCond_contBool:\n",
    "            performancePerFile['Condition'] = list(['control'])\n",
    "        #light\n",
    "        if trialCond_darkBool:\n",
    "            performancePerFile['Light'] = list(['dark'])\n",
    "        elif trialCond_lightBool:\n",
    "            performancePerFile['Light'] = list(['light'])\n",
    "        #whisker trim\n",
    "        if trialCond_trimBool:\n",
    "            performancePerFile['Whisk'] = list(['trim'])\n",
    "        elif trialCond_untrimBool:\n",
    "            performancePerFile['Whisk'] = list(['untrim'])\n",
    "        #anosmia condition\n",
    "        if trialCond_smellBool:\n",
    "            performancePerFile['Smell'] = list(['smell'])\n",
    "        elif animalCond_contBool:\n",
    "            performancePerFile['Smell'] = list(['unsmell'])\n",
    "\n",
    "\n",
    "        performance_multi = pd.concat([performance_multi, performancePerFile])\n",
    "#print(performance_multi)\n",
    "print(performance_multi)"
   ],
   "metadata": {
    "collapsed": false,
    "pycharm": {
     "name": "#%% Batchload\n"
    }
   }
  },
  {
   "cell_type": "code",
   "execution_count": 4,
   "outputs": [
    {
     "name": "stdout",
     "output_type": "stream",
     "text": [
      "                 Performance\n",
      "Condition Light             \n",
      "blind     dark      0.551504\n",
      "          light     0.476923\n",
      "control   dark      0.668369\n",
      "          light     0.641414\n",
      "                 Performance\n",
      "Condition Light             \n",
      "blind     dark      0.177992\n",
      "          light     0.277149\n",
      "control   dark      0.187728\n",
      "          light     0.289998\n"
     ]
    }
   ],
   "source": [
    "#We want to find the percent success rate for each condition\n",
    "\n",
    "performanceByGroupMean = performance_multi.groupby(['Condition', 'Light']).mean()\n",
    "performanceByGroupSTD = performance_multi.groupby(['Condition', 'Light']).std()\n",
    "print(performanceByGroupMean)\n",
    "print(performanceByGroupSTD)\n"
   ],
   "metadata": {
    "collapsed": false,
    "pycharm": {
     "name": "#%% Descriptive Stats\n"
    }
   }
  },
  {
   "cell_type": "code",
   "execution_count": 5,
   "outputs": [],
   "source": [
    "#Simple visualization"
   ],
   "metadata": {
    "collapsed": false,
    "pycharm": {
     "name": "#%%\n"
    }
   }
  }
 ],
 "metadata": {
  "kernelspec": {
   "display_name": "Python 3",
   "language": "python",
   "name": "python3"
  },
  "language_info": {
   "codemirror_mode": {
    "name": "ipython",
    "version": 2
   },
   "file_extension": ".py",
   "mimetype": "text/x-python",
   "name": "python",
   "nbconvert_exporter": "python",
   "pygments_lexer": "ipython2",
   "version": "2.7.6"
  }
 },
 "nbformat": 4,
 "nbformat_minor": 0
}