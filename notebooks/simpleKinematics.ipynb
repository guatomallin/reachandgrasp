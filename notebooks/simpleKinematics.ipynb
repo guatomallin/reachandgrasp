{
 "cells": [
  {
   "cell_type": "code",
   "execution_count": 33,
   "metadata": {
    "collapsed": true
   },
   "outputs": [],
   "source": [
    "#Here we will implement previous code with the DLC package. This requires H5 files..."
   ]
  },
  {
   "cell_type": "code",
   "execution_count": 34,
   "outputs": [],
   "source": [
    "#Imports\n",
    "\n",
    "import pandas as pd\n",
    "\n",
    "import os\n",
    "import re\n",
    "import numpy as np\n",
    "from sympy  import *\n",
    "import matplotlib.pyplot as plt\n",
    "import dlc2kinematics\n",
    "from dlc2kinematics import Visualizer2D\n",
    "\n",
    "#classes imports\n",
    "from preprocessing.classes import FilterandThresholds, simpleKinematics\n",
    "\n",
    "#Initialize classes\n",
    "splitter = FilterandThresholds('tester')\n"
   ],
   "metadata": {
    "collapsed": false,
    "pycharm": {
     "name": "#%%\n"
    }
   }
  },
  {
   "cell_type": "code",
   "execution_count": 35,
   "outputs": [
    {
     "name": "stdout",
     "output_type": "stream",
     "text": [
      "undistorted_singleedit_10_behavior_shape4_cam3_11090_blind_light_left_success_122421.mp4DLC_resnet50_r&d_cam3_2DJul19shuffle1_400000.h5\n",
      "undistorted_singleedit_10_behavior_shape4_cam3_21055_blind_light_right_success_121621.mp4DLC_resnet50_r&d_cam3_2DJul19shuffle1_400000.h5\n",
      "undistorted_singleedit_10_behavior_shape4_cam3_21064_blind_light_left_fail_122221.mp4DLC_resnet50_r&d_cam3_2DJul19shuffle1_400000.h5\n"
     ]
    },
    {
     "ename": "IndexError",
     "evalue": "invalid index to scalar variable.",
     "output_type": "error",
     "traceback": [
      "\u001B[1;31m---------------------------------------------------------------------------\u001B[0m",
      "\u001B[1;31mIndexError\u001B[0m                                Traceback (most recent call last)",
      "Input \u001B[1;32mIn [35]\u001B[0m, in \u001B[0;36m<cell line: 11>\u001B[1;34m()\u001B[0m\n\u001B[0;32m     20\u001B[0m     \u001B[38;5;66;03m#df_vel_RBOH.head(3)\u001B[39;00m\n\u001B[0;32m     21\u001B[0m     \u001B[38;5;66;03m#dlc2kinematics.plot_velocity(df[scorer]['WristL'], df_vel_RBOH)\u001B[39;00m\n\u001B[0;32m     23\u001B[0m     viz \u001B[38;5;241m=\u001B[39m Visualizer2D(configCam3, path\u001B[38;5;241m+\u001B[39mfile)\n\u001B[1;32m---> 24\u001B[0m     \u001B[43mviz\u001B[49m\u001B[38;5;241;43m.\u001B[39;49m\u001B[43mview\u001B[49m\u001B[43m(\u001B[49m\u001B[43mshow_axes\u001B[49m\u001B[38;5;241;43m=\u001B[39;49m\u001B[38;5;28;43;01mTrue\u001B[39;49;00m\u001B[43m,\u001B[49m\u001B[43m \u001B[49m\u001B[43mshow_grid\u001B[49m\u001B[38;5;241;43m=\u001B[39;49m\u001B[38;5;28;43;01mTrue\u001B[39;49;00m\u001B[43m)\u001B[49m\n\u001B[0;32m     26\u001B[0m \u001B[38;5;28mprint\u001B[39m(df_vel)\n\u001B[0;32m     27\u001B[0m \u001B[38;5;28mprint\u001B[39m(df)\n",
      "File \u001B[1;32m~\\anaconda3\\envs\\DEEPLABCUT\\lib\\site-packages\\dlc2kinematics\\visualization.py:390\u001B[0m, in \u001B[0;36mVisualizer2D.view\u001B[1;34m(self, figsize, show_axes, show_grid, show_labels)\u001B[0m\n\u001B[0;32m    386\u001B[0m \u001B[38;5;28;01mdef\u001B[39;00m \u001B[38;5;21mview\u001B[39m(\n\u001B[0;32m    387\u001B[0m     \u001B[38;5;28mself\u001B[39m, figsize\u001B[38;5;241m=\u001B[39m(\u001B[38;5;241m10\u001B[39m, \u001B[38;5;241m6\u001B[39m), show_axes\u001B[38;5;241m=\u001B[39m\u001B[38;5;28;01mFalse\u001B[39;00m, show_grid\u001B[38;5;241m=\u001B[39m\u001B[38;5;28;01mFalse\u001B[39;00m, show_labels\u001B[38;5;241m=\u001B[39m\u001B[38;5;28;01mFalse\u001B[39;00m\n\u001B[0;32m    388\u001B[0m ):\n\u001B[0;32m    389\u001B[0m     \u001B[38;5;28mself\u001B[39m\u001B[38;5;241m.\u001B[39mfig \u001B[38;5;241m=\u001B[39m plt\u001B[38;5;241m.\u001B[39mfigure(figsize\u001B[38;5;241m=\u001B[39mfigsize)\n\u001B[1;32m--> 390\u001B[0m     \u001B[38;5;28;43mself\u001B[39;49m\u001B[38;5;241;43m.\u001B[39;49m\u001B[43madd_to_fig\u001B[49m\u001B[43m(\u001B[49m\u001B[38;5;28;43mself\u001B[39;49m\u001B[38;5;241;43m.\u001B[39;49m\u001B[43mfig\u001B[49m\u001B[43m,\u001B[49m\u001B[43m \u001B[49m\u001B[38;5;241;43m111\u001B[39;49m\u001B[43m,\u001B[49m\u001B[43m \u001B[49m\u001B[43mshow_axes\u001B[49m\u001B[43m,\u001B[49m\u001B[43m \u001B[49m\u001B[43mshow_grid\u001B[49m\u001B[43m,\u001B[49m\u001B[43m \u001B[49m\u001B[43mshow_labels\u001B[49m\u001B[43m)\u001B[49m\n\u001B[0;32m    391\u001B[0m     \u001B[38;5;28mself\u001B[39m\u001B[38;5;241m.\u001B[39madd_widgets()\n",
      "File \u001B[1;32m~\\anaconda3\\envs\\DEEPLABCUT\\lib\\site-packages\\dlc2kinematics\\visualization.py:368\u001B[0m, in \u001B[0;36mVisualizer2D.add_to_fig\u001B[1;34m(self, fig, loc, show_axes, show_grid, show_labels)\u001B[0m\n\u001B[0;32m    366\u001B[0m \u001B[38;5;28mself\u001B[39m\u001B[38;5;241m.\u001B[39max\u001B[38;5;241m.\u001B[39minvert_yaxis()\n\u001B[0;32m    367\u001B[0m colors \u001B[38;5;241m=\u001B[39m \u001B[38;5;28mself\u001B[39m\u001B[38;5;241m.\u001B[39mcolors\u001B[38;5;241m.\u001B[39mcopy()\n\u001B[1;32m--> 368\u001B[0m colors[\u001B[38;5;28;43mself\u001B[39;49m\u001B[38;5;241;43m.\u001B[39;49m\u001B[43mxy\u001B[49m\u001B[43m[\u001B[49m\u001B[38;5;241;43m0\u001B[39;49m\u001B[43m]\u001B[49m\u001B[38;5;241;43m.\u001B[39;49m\u001B[43mmask\u001B[49m\u001B[43m[\u001B[49m\u001B[43m:\u001B[49m\u001B[43m,\u001B[49m\u001B[43m \u001B[49m\u001B[38;5;241;43m0\u001B[39;49m\u001B[43m]\u001B[49m] \u001B[38;5;241m=\u001B[39m np\u001B[38;5;241m.\u001B[39mnan\n\u001B[0;32m    369\u001B[0m \u001B[38;5;28mself\u001B[39m\u001B[38;5;241m.\u001B[39mpoints \u001B[38;5;241m=\u001B[39m \u001B[38;5;28mself\u001B[39m\u001B[38;5;241m.\u001B[39max\u001B[38;5;241m.\u001B[39mscatter(\n\u001B[0;32m    370\u001B[0m     \u001B[38;5;241m*\u001B[39m\u001B[38;5;28mself\u001B[39m\u001B[38;5;241m.\u001B[39mxy[\u001B[38;5;241m0\u001B[39m]\u001B[38;5;241m.\u001B[39mT,\n\u001B[0;32m    371\u001B[0m     s\u001B[38;5;241m=\u001B[39m\u001B[38;5;28mself\u001B[39m\u001B[38;5;241m.\u001B[39mcfg[\u001B[38;5;124m\"\u001B[39m\u001B[38;5;124mdotsize\u001B[39m\u001B[38;5;124m\"\u001B[39m],\n\u001B[0;32m    372\u001B[0m     alpha\u001B[38;5;241m=\u001B[39m\u001B[38;5;28mself\u001B[39m\u001B[38;5;241m.\u001B[39mcfg\u001B[38;5;241m.\u001B[39mget(\u001B[38;5;124m\"\u001B[39m\u001B[38;5;124malphavalue\u001B[39m\u001B[38;5;124m\"\u001B[39m, \u001B[38;5;241m0.7\u001B[39m),\n\u001B[0;32m    373\u001B[0m     c\u001B[38;5;241m=\u001B[39mcolors\n\u001B[0;32m    374\u001B[0m )\n\u001B[0;32m    375\u001B[0m \u001B[38;5;28;01mif\u001B[39;00m \u001B[38;5;28mself\u001B[39m\u001B[38;5;241m.\u001B[39mind_links:\n",
      "\u001B[1;31mIndexError\u001B[0m: invalid index to scalar variable."
     ]
    }
   ],
   "source": [
    "#Lets see what the dlc2kinematics has to offer\n",
    "\n",
    "#In this we want to import our files, load the data and extract kinematics\n",
    "path = r'D:/project_deeplabcut/r&d_cam3_2D-CP-2021-07-19/results_h5/'\n",
    "configCam3 = r'D:/project_deeplabcut/r&d_cam3_2D-CP-2021-07-19/config.yaml'\n",
    "files = [file for file in os.listdir(path)]\n",
    "%matplotlib qt\n",
    "\n",
    "#Allocate datframes\n",
    "velocity = []\n",
    "for file in files:\n",
    "    df, bodyparts, scorer = dlc2kinematics.load_data(path + file)\n",
    "    print(file)\n",
    "    #velocity\n",
    "    df_vel = dlc2kinematics.compute_velocity(df,bodyparts=['all'], filter_window=3, order=1)\n",
    "    df_speed = dlc2kinematics.compute_speed(df,bodyparts=['all'], filter_window=3, order=1)\n",
    "\n",
    "#example for 1 bodypart for velocity:\n",
    "    df_vel_RBOH = dlc2kinematics.compute_velocity(df,bodyparts=['WristL'],filter_window=3, order=1)\n",
    "    #df_vel_RBOH.head(3)\n",
    "    #dlc2kinematics.plot_velocity(df[scorer]['WristL'], df_vel_RBOH)\n",
    "\n",
    "    viz = Visualizer2D(configCam3, path+file)\n",
    "    viz.view(show_axes=True, show_grid=True)\n",
    "\n",
    "print(df_vel)\n",
    "print(df)\n",
    "    #To appropriately save this information, we have to build a new dataframe"
   ],
   "metadata": {
    "collapsed": false,
    "pycharm": {
     "name": "#%%\n"
    }
   }
  },
  {
   "cell_type": "code",
   "execution_count": 41,
   "outputs": [
    {
     "name": "stdout",
     "output_type": "stream",
     "text": [
      "undistorted_singleedit_1_behavior_shape4_cam2_11090_blind_light_whisk_smell_122421.mp4_1DLC_resnet50_r&d_cam2_2DSep14shuffle1_440000.h5\n",
      "undistorted_singleedit_1_behavior_shape5_cam2_21066_control_success_light_whisk_smell_122021.mp4DLC_resnet50_r&d_cam2_2DSep14shuffle1_440000.h5\n",
      "undistorted_singleedit_2_behavior_shape4_cam2_11090_blind_left_122421DLC_resnet50_r&d_cam2_2DSep14shuffle1_440000.h5\n"
     ]
    },
    {
     "ename": "IndexError",
     "evalue": "invalid index to scalar variable.",
     "output_type": "error",
     "traceback": [
      "\u001B[1;31m---------------------------------------------------------------------------\u001B[0m",
      "\u001B[1;31mIndexError\u001B[0m                                Traceback (most recent call last)",
      "Input \u001B[1;32mIn [41]\u001B[0m, in \u001B[0;36m<cell line: 9>\u001B[1;34m()\u001B[0m\n\u001B[0;32m     18\u001B[0m     \u001B[38;5;66;03m#df_vel_RBOH.head(3)\u001B[39;00m\n\u001B[0;32m     19\u001B[0m     \u001B[38;5;66;03m#dlc2kinematics.plot_velocity(df[scorer]['WristL'], df_vel_RBOH)\u001B[39;00m\n\u001B[0;32m     21\u001B[0m     viz \u001B[38;5;241m=\u001B[39m Visualizer2D(configCam2, pathCam2\u001B[38;5;241m+\u001B[39mfile)\n\u001B[1;32m---> 22\u001B[0m     \u001B[43mviz\u001B[49m\u001B[38;5;241;43m.\u001B[39;49m\u001B[43mview\u001B[49m\u001B[43m(\u001B[49m\u001B[43mshow_axes\u001B[49m\u001B[38;5;241;43m=\u001B[39;49m\u001B[38;5;28;43;01mTrue\u001B[39;49;00m\u001B[43m,\u001B[49m\u001B[43m \u001B[49m\u001B[43mshow_grid\u001B[49m\u001B[38;5;241;43m=\u001B[39;49m\u001B[38;5;28;43;01mTrue\u001B[39;49;00m\u001B[43m)\u001B[49m\n\u001B[0;32m     24\u001B[0m \u001B[38;5;28mprint\u001B[39m(df_vel)\n\u001B[0;32m     25\u001B[0m \u001B[38;5;28mprint\u001B[39m(df)\n",
      "File \u001B[1;32m~\\anaconda3\\envs\\DEEPLABCUT\\lib\\site-packages\\dlc2kinematics\\visualization.py:390\u001B[0m, in \u001B[0;36mVisualizer2D.view\u001B[1;34m(self, figsize, show_axes, show_grid, show_labels)\u001B[0m\n\u001B[0;32m    386\u001B[0m \u001B[38;5;28;01mdef\u001B[39;00m \u001B[38;5;21mview\u001B[39m(\n\u001B[0;32m    387\u001B[0m     \u001B[38;5;28mself\u001B[39m, figsize\u001B[38;5;241m=\u001B[39m(\u001B[38;5;241m10\u001B[39m, \u001B[38;5;241m6\u001B[39m), show_axes\u001B[38;5;241m=\u001B[39m\u001B[38;5;28;01mFalse\u001B[39;00m, show_grid\u001B[38;5;241m=\u001B[39m\u001B[38;5;28;01mFalse\u001B[39;00m, show_labels\u001B[38;5;241m=\u001B[39m\u001B[38;5;28;01mFalse\u001B[39;00m\n\u001B[0;32m    388\u001B[0m ):\n\u001B[0;32m    389\u001B[0m     \u001B[38;5;28mself\u001B[39m\u001B[38;5;241m.\u001B[39mfig \u001B[38;5;241m=\u001B[39m plt\u001B[38;5;241m.\u001B[39mfigure(figsize\u001B[38;5;241m=\u001B[39mfigsize)\n\u001B[1;32m--> 390\u001B[0m     \u001B[38;5;28;43mself\u001B[39;49m\u001B[38;5;241;43m.\u001B[39;49m\u001B[43madd_to_fig\u001B[49m\u001B[43m(\u001B[49m\u001B[38;5;28;43mself\u001B[39;49m\u001B[38;5;241;43m.\u001B[39;49m\u001B[43mfig\u001B[49m\u001B[43m,\u001B[49m\u001B[43m \u001B[49m\u001B[38;5;241;43m111\u001B[39;49m\u001B[43m,\u001B[49m\u001B[43m \u001B[49m\u001B[43mshow_axes\u001B[49m\u001B[43m,\u001B[49m\u001B[43m \u001B[49m\u001B[43mshow_grid\u001B[49m\u001B[43m,\u001B[49m\u001B[43m \u001B[49m\u001B[43mshow_labels\u001B[49m\u001B[43m)\u001B[49m\n\u001B[0;32m    391\u001B[0m     \u001B[38;5;28mself\u001B[39m\u001B[38;5;241m.\u001B[39madd_widgets()\n",
      "File \u001B[1;32m~\\anaconda3\\envs\\DEEPLABCUT\\lib\\site-packages\\dlc2kinematics\\visualization.py:368\u001B[0m, in \u001B[0;36mVisualizer2D.add_to_fig\u001B[1;34m(self, fig, loc, show_axes, show_grid, show_labels)\u001B[0m\n\u001B[0;32m    366\u001B[0m \u001B[38;5;28mself\u001B[39m\u001B[38;5;241m.\u001B[39max\u001B[38;5;241m.\u001B[39minvert_yaxis()\n\u001B[0;32m    367\u001B[0m colors \u001B[38;5;241m=\u001B[39m \u001B[38;5;28mself\u001B[39m\u001B[38;5;241m.\u001B[39mcolors\u001B[38;5;241m.\u001B[39mcopy()\n\u001B[1;32m--> 368\u001B[0m colors[\u001B[38;5;28;43mself\u001B[39;49m\u001B[38;5;241;43m.\u001B[39;49m\u001B[43mxy\u001B[49m\u001B[43m[\u001B[49m\u001B[38;5;241;43m0\u001B[39;49m\u001B[43m]\u001B[49m\u001B[38;5;241;43m.\u001B[39;49m\u001B[43mmask\u001B[49m\u001B[43m[\u001B[49m\u001B[43m:\u001B[49m\u001B[43m,\u001B[49m\u001B[43m \u001B[49m\u001B[38;5;241;43m0\u001B[39;49m\u001B[43m]\u001B[49m] \u001B[38;5;241m=\u001B[39m np\u001B[38;5;241m.\u001B[39mnan\n\u001B[0;32m    369\u001B[0m \u001B[38;5;28mself\u001B[39m\u001B[38;5;241m.\u001B[39mpoints \u001B[38;5;241m=\u001B[39m \u001B[38;5;28mself\u001B[39m\u001B[38;5;241m.\u001B[39max\u001B[38;5;241m.\u001B[39mscatter(\n\u001B[0;32m    370\u001B[0m     \u001B[38;5;241m*\u001B[39m\u001B[38;5;28mself\u001B[39m\u001B[38;5;241m.\u001B[39mxy[\u001B[38;5;241m0\u001B[39m]\u001B[38;5;241m.\u001B[39mT,\n\u001B[0;32m    371\u001B[0m     s\u001B[38;5;241m=\u001B[39m\u001B[38;5;28mself\u001B[39m\u001B[38;5;241m.\u001B[39mcfg[\u001B[38;5;124m\"\u001B[39m\u001B[38;5;124mdotsize\u001B[39m\u001B[38;5;124m\"\u001B[39m],\n\u001B[0;32m    372\u001B[0m     alpha\u001B[38;5;241m=\u001B[39m\u001B[38;5;28mself\u001B[39m\u001B[38;5;241m.\u001B[39mcfg\u001B[38;5;241m.\u001B[39mget(\u001B[38;5;124m\"\u001B[39m\u001B[38;5;124malphavalue\u001B[39m\u001B[38;5;124m\"\u001B[39m, \u001B[38;5;241m0.7\u001B[39m),\n\u001B[0;32m    373\u001B[0m     c\u001B[38;5;241m=\u001B[39mcolors\n\u001B[0;32m    374\u001B[0m )\n\u001B[0;32m    375\u001B[0m \u001B[38;5;28;01mif\u001B[39;00m \u001B[38;5;28mself\u001B[39m\u001B[38;5;241m.\u001B[39mind_links:\n",
      "\u001B[1;31mIndexError\u001B[0m: invalid index to scalar variable."
     ]
    }
   ],
   "source": [
    "#Lets try it for camera 2\n",
    "pathCam2 = r'D:/project_deeplabcut/r&d_cam2_2D-CP-2021-09-14/results_h5/'\n",
    "configCam2 = r'D:\\project_deeplabcut\\r&d_cam2_2D-CP-2021-09-14\\config.yaml'\n",
    "files = [file for file in os.listdir(pathCam2)]\n",
    "\n",
    "\n",
    "#Allocate datframes\n",
    "velocity = []\n",
    "for file in files:\n",
    "    df, bodyparts, scorer = dlc2kinematics.load_data(pathCam2 + file)\n",
    "    print(file)\n",
    "    #velocity\n",
    "    df_vel = dlc2kinematics.compute_velocity(df,bodyparts=['all'], filter_window=3, order=1)\n",
    "    df_speed = dlc2kinematics.compute_speed(df,bodyparts=['all'], filter_window=3, order=1)\n",
    "\n",
    "#example for 1 bodypart for velocity:\n",
    "    df_vel_RBOH = dlc2kinematics.compute_velocity(df,bodyparts=['WristL'],filter_window=3, order=1)\n",
    "    #df_vel_RBOH.head(3)\n",
    "    #dlc2kinematics.plot_velocity(df[scorer]['WristL'], df_vel_RBOH)\n",
    "\n",
    "    viz = Visualizer2D(configCam2, pathCam2+file)\n",
    "    viz.view(show_axes=True, show_grid=True)\n",
    "\n",
    "print(df_vel)\n",
    "print(df)\n"
   ],
   "metadata": {
    "collapsed": false,
    "pycharm": {
     "name": "#%%\n"
    }
   }
  },
  {
   "cell_type": "code",
   "execution_count": null,
   "outputs": [],
   "source": [
    "#Compute for All bodyparts:\n",
    "df_vel = dlc2kinematics.compute_velocity(df,bodyparts=['all'], filter_window=3, order=1)\n",
    "df_speed = dlc2kinematics.compute_speed(df,bodyparts=['all'], filter_window=3, order=1)\n",
    "\n",
    "#example for 1 bodypart for velocity:\n",
    "df_vel_RBOH = dlc2kinematics.compute_velocity(df,bodyparts=['WristL'],filter_window=3, order=1)\n",
    "df_vel_RBOH.head(3)\n",
    "\n",
    "#plot 1 bodypart, including original DLC positions & new velocity:\n",
    "%matplotlib inline\n",
    "import matplotlib.pyplot as plt\n",
    "dlc2kinematics.plot_velocity(df[scorer]['WristL'], df_vel_RBOH)#, start=42150,end=42450) #42150:42450"
   ],
   "metadata": {
    "collapsed": false,
    "pycharm": {
     "name": "#%%\n"
    }
   }
  }
 ],
 "metadata": {
  "kernelspec": {
   "display_name": "Python 3",
   "language": "python",
   "name": "python3"
  },
  "language_info": {
   "codemirror_mode": {
    "name": "ipython",
    "version": 2
   },
   "file_extension": ".py",
   "mimetype": "text/x-python",
   "name": "python",
   "nbconvert_exporter": "python",
   "pygments_lexer": "ipython2",
   "version": "2.7.6"
  }
 },
 "nbformat": 4,
 "nbformat_minor": 0
}