{
 "cells": [
  {
   "cell_type": "code",
   "execution_count": 1,
   "metadata": {
    "collapsed": true
   },
   "outputs": [],
   "source": [
    "#Analysis of 3D"
   ]
  },
  {
   "cell_type": "code",
   "execution_count": 1,
   "outputs": [
    {
     "ename": "FileNotFoundError",
     "evalue": "[Errno 2] No such file or directory: 'D:/project_deeplabcut/r&d_cam3_2D-CP-2021-07-19/results_h5/'",
     "output_type": "error",
     "traceback": [
      "\u001B[0;31m---------------------------------------------------------------------------\u001B[0m",
      "\u001B[0;31mFileNotFoundError\u001B[0m                         Traceback (most recent call last)",
      "\u001B[0;32m<ipython-input-1-7d8b29f78fdf>\u001B[0m in \u001B[0;36m<module>\u001B[0;34m\u001B[0m\n\u001B[1;32m     11\u001B[0m \u001B[0mfile2\u001B[0m \u001B[0;34m=\u001B[0m \u001B[0;34mr'D:\\project_deeplabcut\\3DVideo\\undistorted_singleedit_14_behavior_shape4_cam3_21064_blind_light_122221.mp4DLC_resnet50_r&d_cam3_2DJul19shuffle1_400000_filtered.h5'\u001B[0m\u001B[0;34m\u001B[0m\u001B[0;34m\u001B[0m\u001B[0m\n\u001B[1;32m     12\u001B[0m \u001B[0;34m\u001B[0m\u001B[0m\n\u001B[0;32m---> 13\u001B[0;31m \u001B[0mfiles\u001B[0m \u001B[0;34m=\u001B[0m \u001B[0;34m[\u001B[0m\u001B[0mfile\u001B[0m \u001B[0;32mfor\u001B[0m \u001B[0mfile\u001B[0m \u001B[0;32min\u001B[0m \u001B[0mos\u001B[0m\u001B[0;34m.\u001B[0m\u001B[0mlistdir\u001B[0m\u001B[0;34m(\u001B[0m\u001B[0mpath\u001B[0m\u001B[0;34m)\u001B[0m\u001B[0;34m]\u001B[0m\u001B[0;34m\u001B[0m\u001B[0;34m\u001B[0m\u001B[0m\n\u001B[0m\u001B[1;32m     14\u001B[0m \u001B[0;34m\u001B[0m\u001B[0m\n\u001B[1;32m     15\u001B[0m \u001B[0mget_ipython\u001B[0m\u001B[0;34m(\u001B[0m\u001B[0;34m)\u001B[0m\u001B[0;34m.\u001B[0m\u001B[0mrun_line_magic\u001B[0m\u001B[0;34m(\u001B[0m\u001B[0;34m'matplotlib'\u001B[0m\u001B[0;34m,\u001B[0m \u001B[0;34m'qt'\u001B[0m\u001B[0;34m)\u001B[0m\u001B[0;34m\u001B[0m\u001B[0;34m\u001B[0m\u001B[0m\n",
      "\u001B[0;31mFileNotFoundError\u001B[0m: [Errno 2] No such file or directory: 'D:/project_deeplabcut/r&d_cam3_2D-CP-2021-07-19/results_h5/'"
     ]
    }
   ],
   "source": [
    "#Imports\n",
    "%matplotlib qt\n",
    "import dlc2kinematics\n",
    "import os\n",
    "from dlc2kinematics import Visualizer3D\n",
    "\n",
    "path = r'D:/project_deeplabcut/r&d_cam3_2D-CP-2021-07-19/results_h5/'\n",
    "config3D = r'D:/project_deeplabcut/RD_2CAM-CP-2022-03-31-3d/config.yaml'\n",
    "file3D = r'D:\\project_deeplabcut\\3DVideo\\undistorted_singleedit_14_behavior_shape4_21064_blind_light_122221.mp4_CP3D.h5'\n",
    "file1 = r'D:\\project_deeplabcut\\3DVideo\\undistorted_singleedit_14_behavior_shape4_cam2_21064_blind_light_122221.mp4DLC_resnet50_r&d_cam2_2DSep14shuffle1_400000_filtered.h5'\n",
    "file2 = r'D:\\project_deeplabcut\\3DVideo\\undistorted_singleedit_14_behavior_shape4_cam3_21064_blind_light_122221.mp4DLC_resnet50_r&d_cam3_2DJul19shuffle1_400000_filtered.h5'\n",
    "\n",
    "files = [file for file in os.listdir(path)]\n",
    "\n",
    "%matplotlib qt\n",
    "#Allocate datframes\n",
    "\n",
    "filePath = file3D\n",
    "print(filePath)\n",
    "viz = Visualizer3D(config3D, filePath , [file1, file2])\n",
    "viz.view(show_axes=True, show_grid=True)"
   ],
   "metadata": {
    "collapsed": false,
    "pycharm": {
     "name": "#%%\n"
    }
   }
  }
 ],
 "metadata": {
  "kernelspec": {
   "display_name": "Python 3",
   "language": "python",
   "name": "python3"
  },
  "language_info": {
   "codemirror_mode": {
    "name": "ipython",
    "version": 2
   },
   "file_extension": ".py",
   "mimetype": "text/x-python",
   "name": "python",
   "nbconvert_exporter": "python",
   "pygments_lexer": "ipython2",
   "version": "2.7.6"
  }
 },
 "nbformat": 4,
 "nbformat_minor": 0
}